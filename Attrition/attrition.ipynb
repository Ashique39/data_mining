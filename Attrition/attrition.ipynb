{
 "cells": [
  {
   "cell_type": "markdown",
   "metadata": {},
   "source": [
    "# Installing Packages"
   ]
  },
  {
   "cell_type": "code",
   "execution_count": null,
   "metadata": {},
   "outputs": [],
   "source": [
    "!pip install scipy==1.5.2 --user"
   ]
  },
  {
   "cell_type": "code",
   "execution_count": null,
   "metadata": {},
   "outputs": [],
   "source": [
    "!pip install pandas-profiling --user"
   ]
  },
  {
   "cell_type": "code",
   "execution_count": null,
   "metadata": {},
   "outputs": [],
   "source": [
    "!pip install markupsafe --user"
   ]
  },
  {
   "cell_type": "code",
   "execution_count": null,
   "metadata": {},
   "outputs": [],
   "source": [
    "!pip install regex --user"
   ]
  },
  {
   "cell_type": "code",
   "execution_count": null,
   "metadata": {},
   "outputs": [],
   "source": [
    "!pip install --upgrade scikit-learn --user"
   ]
  },
  {
   "cell_type": "code",
   "execution_count": null,
   "metadata": {},
   "outputs": [],
   "source": [
    "!pip install imbalanced-learn==0.8.0 --user"
   ]
  },
  {
   "cell_type": "code",
   "execution_count": null,
   "metadata": {},
   "outputs": [],
   "source": [
    "!pip install xgboost --user"
   ]
  },
  {
   "cell_type": "markdown",
   "metadata": {},
   "source": [
    "# Importing Libraries"
   ]
  },
  {
   "cell_type": "code",
   "execution_count": 1,
   "metadata": {},
   "outputs": [],
   "source": [
    "import pandas as pd\n",
    "import numpy as np\n",
    "from dateutil import relativedelta\n",
    "from datetime import date\n",
    "\n",
    "import matplotlib.pyplot as plt\n",
    "%matplotlib inline\n",
    "import seaborn as sns\n",
    "\n",
    "pd.set_option('display.max_columns', None)\n",
    "pd.set_option('display.max_rows', None)\n",
    "\n",
    "from pandas_profiling import ProfileReport\n",
    "\n",
    "import warnings\n",
    "warnings.filterwarnings(\"ignore\")"
   ]
  },
  {
   "cell_type": "markdown",
   "metadata": {},
   "source": [
    "# Reading Data into Pandas Dataframe"
   ]
  },
  {
   "cell_type": "code",
   "execution_count": 2,
   "metadata": {},
   "outputs": [
    {
     "name": "stdout",
     "output_type": "stream",
     "text": [
      "(1470, 33)\n",
      "Index(['Age', 'Attrition', 'BusinessTravel', 'Department', 'DistanceFromHome',\n",
      "       'Gender', 'JobInvolvement', 'JobLevel', 'JobRole', 'JobSatisfaction',\n",
      "       'MaritalStatus', 'MonthlyIncome', 'NumCompaniesWorked', 'OverTime',\n",
      "       'PercentSalaryHike', 'PerformanceRating', 'StockOptionLevel',\n",
      "       'TotalWorkingYears', 'TrainingTimesLastYear', 'YearsAtCompany',\n",
      "       'YearsSinceLastPromotion', 'YearsWithCurrManager', 'Higher_Education',\n",
      "       'Date_of_Hire', 'Date_of_termination', 'Status_of_leaving',\n",
      "       'Mode_of_work', 'Leaves', 'Absenteeism', 'Work_accident',\n",
      "       'Source_of_Hire', 'Job_mode', 'Unnamed: 32'],\n",
      "      dtype='object')\n"
     ]
    },
    {
     "data": {
      "text/html": [
       "<div>\n",
       "<style scoped>\n",
       "    .dataframe tbody tr th:only-of-type {\n",
       "        vertical-align: middle;\n",
       "    }\n",
       "\n",
       "    .dataframe tbody tr th {\n",
       "        vertical-align: top;\n",
       "    }\n",
       "\n",
       "    .dataframe thead th {\n",
       "        text-align: right;\n",
       "    }\n",
       "</style>\n",
       "<table border=\"1\" class=\"dataframe\">\n",
       "  <thead>\n",
       "    <tr style=\"text-align: right;\">\n",
       "      <th></th>\n",
       "      <th>Age</th>\n",
       "      <th>Attrition</th>\n",
       "      <th>BusinessTravel</th>\n",
       "      <th>Department</th>\n",
       "      <th>DistanceFromHome</th>\n",
       "      <th>Gender</th>\n",
       "      <th>JobInvolvement</th>\n",
       "      <th>JobLevel</th>\n",
       "      <th>JobRole</th>\n",
       "      <th>JobSatisfaction</th>\n",
       "      <th>MaritalStatus</th>\n",
       "      <th>MonthlyIncome</th>\n",
       "      <th>NumCompaniesWorked</th>\n",
       "      <th>OverTime</th>\n",
       "      <th>PercentSalaryHike</th>\n",
       "      <th>PerformanceRating</th>\n",
       "      <th>StockOptionLevel</th>\n",
       "      <th>TotalWorkingYears</th>\n",
       "      <th>TrainingTimesLastYear</th>\n",
       "      <th>YearsAtCompany</th>\n",
       "      <th>YearsSinceLastPromotion</th>\n",
       "      <th>YearsWithCurrManager</th>\n",
       "      <th>Higher_Education</th>\n",
       "      <th>Date_of_Hire</th>\n",
       "      <th>Date_of_termination</th>\n",
       "      <th>Status_of_leaving</th>\n",
       "      <th>Mode_of_work</th>\n",
       "      <th>Leaves</th>\n",
       "      <th>Absenteeism</th>\n",
       "      <th>Work_accident</th>\n",
       "      <th>Source_of_Hire</th>\n",
       "      <th>Job_mode</th>\n",
       "      <th>Unnamed: 32</th>\n",
       "    </tr>\n",
       "  </thead>\n",
       "  <tbody>\n",
       "    <tr>\n",
       "      <th>0</th>\n",
       "      <td>37</td>\n",
       "      <td>Yes</td>\n",
       "      <td>Travel_Rarely</td>\n",
       "      <td>Research &amp; Development</td>\n",
       "      <td>2</td>\n",
       "      <td>Male</td>\n",
       "      <td>2</td>\n",
       "      <td>1</td>\n",
       "      <td>Laboratory Technician</td>\n",
       "      <td>3</td>\n",
       "      <td>Single</td>\n",
       "      <td>2090</td>\n",
       "      <td>6</td>\n",
       "      <td>Yes</td>\n",
       "      <td>15</td>\n",
       "      <td>3</td>\n",
       "      <td>0</td>\n",
       "      <td>7</td>\n",
       "      <td>3</td>\n",
       "      <td>0</td>\n",
       "      <td>0</td>\n",
       "      <td>0</td>\n",
       "      <td>Graduation</td>\n",
       "      <td>21-01-2021</td>\n",
       "      <td>NaN</td>\n",
       "      <td>Salary</td>\n",
       "      <td>OFFICE</td>\n",
       "      <td>4</td>\n",
       "      <td>2</td>\n",
       "      <td>No</td>\n",
       "      <td>Job Event</td>\n",
       "      <td>Contract</td>\n",
       "      <td>NaN</td>\n",
       "    </tr>\n",
       "    <tr>\n",
       "      <th>1</th>\n",
       "      <td>21</td>\n",
       "      <td>No</td>\n",
       "      <td>Travel_Rarely</td>\n",
       "      <td>Research &amp; Development</td>\n",
       "      <td>15</td>\n",
       "      <td>Male</td>\n",
       "      <td>3</td>\n",
       "      <td>1</td>\n",
       "      <td>Research Scientist</td>\n",
       "      <td>4</td>\n",
       "      <td>Single</td>\n",
       "      <td>1232</td>\n",
       "      <td>1</td>\n",
       "      <td>No</td>\n",
       "      <td>14</td>\n",
       "      <td>3</td>\n",
       "      <td>0</td>\n",
       "      <td>0</td>\n",
       "      <td>6</td>\n",
       "      <td>0</td>\n",
       "      <td>0</td>\n",
       "      <td>0</td>\n",
       "      <td>Graduation</td>\n",
       "      <td>13-03-2021</td>\n",
       "      <td>NaN</td>\n",
       "      <td>Work Accident</td>\n",
       "      <td>WFH</td>\n",
       "      <td>5</td>\n",
       "      <td>2</td>\n",
       "      <td>No</td>\n",
       "      <td>Recruiter</td>\n",
       "      <td>Part Time</td>\n",
       "      <td>NaN</td>\n",
       "    </tr>\n",
       "    <tr>\n",
       "      <th>2</th>\n",
       "      <td>45</td>\n",
       "      <td>No</td>\n",
       "      <td>Travel_Rarely</td>\n",
       "      <td>Research &amp; Development</td>\n",
       "      <td>6</td>\n",
       "      <td>Male</td>\n",
       "      <td>3</td>\n",
       "      <td>3</td>\n",
       "      <td>Research Director</td>\n",
       "      <td>1</td>\n",
       "      <td>Married</td>\n",
       "      <td>13245</td>\n",
       "      <td>4</td>\n",
       "      <td>Yes</td>\n",
       "      <td>14</td>\n",
       "      <td>3</td>\n",
       "      <td>0</td>\n",
       "      <td>17</td>\n",
       "      <td>3</td>\n",
       "      <td>0</td>\n",
       "      <td>0</td>\n",
       "      <td>0</td>\n",
       "      <td>Post-Graduation</td>\n",
       "      <td>23-01-2021</td>\n",
       "      <td>NaN</td>\n",
       "      <td>Dept.Head</td>\n",
       "      <td>WFH</td>\n",
       "      <td>1</td>\n",
       "      <td>3</td>\n",
       "      <td>No</td>\n",
       "      <td>Job Event</td>\n",
       "      <td>Contract</td>\n",
       "      <td>NaN</td>\n",
       "    </tr>\n",
       "  </tbody>\n",
       "</table>\n",
       "</div>"
      ],
      "text/plain": [
       "   Age Attrition BusinessTravel              Department  DistanceFromHome  \\\n",
       "0   37       Yes  Travel_Rarely  Research & Development                 2   \n",
       "1   21        No  Travel_Rarely  Research & Development                15   \n",
       "2   45        No  Travel_Rarely  Research & Development                 6   \n",
       "\n",
       "  Gender  JobInvolvement  JobLevel                JobRole  JobSatisfaction  \\\n",
       "0   Male               2         1  Laboratory Technician                3   \n",
       "1   Male               3         1     Research Scientist                4   \n",
       "2   Male               3         3      Research Director                1   \n",
       "\n",
       "  MaritalStatus  MonthlyIncome  NumCompaniesWorked OverTime  \\\n",
       "0        Single           2090                   6      Yes   \n",
       "1        Single           1232                   1       No   \n",
       "2       Married          13245                   4      Yes   \n",
       "\n",
       "   PercentSalaryHike  PerformanceRating  StockOptionLevel  TotalWorkingYears  \\\n",
       "0                 15                  3                 0                  7   \n",
       "1                 14                  3                 0                  0   \n",
       "2                 14                  3                 0                 17   \n",
       "\n",
       "   TrainingTimesLastYear  YearsAtCompany  YearsSinceLastPromotion  \\\n",
       "0                      3               0                        0   \n",
       "1                      6               0                        0   \n",
       "2                      3               0                        0   \n",
       "\n",
       "   YearsWithCurrManager Higher_Education Date_of_Hire  Date_of_termination  \\\n",
       "0                     0       Graduation   21-01-2021                  NaN   \n",
       "1                     0       Graduation   13-03-2021                  NaN   \n",
       "2                     0  Post-Graduation   23-01-2021                  NaN   \n",
       "\n",
       "  Status_of_leaving Mode_of_work  Leaves  Absenteeism Work_accident  \\\n",
       "0            Salary       OFFICE       4            2            No   \n",
       "1     Work Accident          WFH       5            2            No   \n",
       "2         Dept.Head          WFH       1            3            No   \n",
       "\n",
       "  Source_of_Hire   Job_mode  Unnamed: 32  \n",
       "0      Job Event   Contract          NaN  \n",
       "1      Recruiter  Part Time          NaN  \n",
       "2      Job Event   Contract          NaN  "
      ]
     },
     "execution_count": 2,
     "metadata": {},
     "output_type": "execute_result"
    }
   ],
   "source": [
    "df_att = pd.read_csv(\"Final dataset Attrition.csv\")\n",
    "print(df_att.shape)\n",
    "print(df_att.columns)\n",
    "df_att.head(3)"
   ]
  },
  {
   "cell_type": "markdown",
   "metadata": {},
   "source": [
    "# Exploratory analysis of the data and description and understanding of the data"
   ]
  },
  {
   "cell_type": "code",
   "execution_count": 3,
   "metadata": {
    "scrolled": true
   },
   "outputs": [
    {
     "data": {
      "text/plain": [
       "Age                          int64\n",
       "Attrition                   object\n",
       "BusinessTravel              object\n",
       "Department                  object\n",
       "DistanceFromHome             int64\n",
       "Gender                      object\n",
       "JobInvolvement               int64\n",
       "JobLevel                     int64\n",
       "JobRole                     object\n",
       "JobSatisfaction              int64\n",
       "MaritalStatus               object\n",
       "MonthlyIncome                int64\n",
       "NumCompaniesWorked           int64\n",
       "OverTime                    object\n",
       "PercentSalaryHike            int64\n",
       "PerformanceRating            int64\n",
       "StockOptionLevel             int64\n",
       "TotalWorkingYears            int64\n",
       "TrainingTimesLastYear        int64\n",
       "YearsAtCompany               int64\n",
       "YearsSinceLastPromotion      int64\n",
       "YearsWithCurrManager         int64\n",
       "Higher_Education            object\n",
       "Date_of_Hire                object\n",
       "Date_of_termination        float64\n",
       "Status_of_leaving           object\n",
       "Mode_of_work                object\n",
       "Leaves                       int64\n",
       "Absenteeism                  int64\n",
       "Work_accident               object\n",
       "Source_of_Hire              object\n",
       "Job_mode                    object\n",
       "Unnamed: 32                float64\n",
       "dtype: object"
      ]
     },
     "execution_count": 3,
     "metadata": {},
     "output_type": "execute_result"
    }
   ],
   "source": [
    "df_att.dtypes"
   ]
  },
  {
   "cell_type": "code",
   "execution_count": 4,
   "metadata": {},
   "outputs": [
    {
     "data": {
      "text/html": [
       "<div>\n",
       "<style scoped>\n",
       "    .dataframe tbody tr th:only-of-type {\n",
       "        vertical-align: middle;\n",
       "    }\n",
       "\n",
       "    .dataframe tbody tr th {\n",
       "        vertical-align: top;\n",
       "    }\n",
       "\n",
       "    .dataframe thead th {\n",
       "        text-align: right;\n",
       "    }\n",
       "</style>\n",
       "<table border=\"1\" class=\"dataframe\">\n",
       "  <thead>\n",
       "    <tr style=\"text-align: right;\">\n",
       "      <th></th>\n",
       "      <th>Age</th>\n",
       "      <th>DistanceFromHome</th>\n",
       "      <th>JobInvolvement</th>\n",
       "      <th>JobLevel</th>\n",
       "      <th>JobSatisfaction</th>\n",
       "      <th>MonthlyIncome</th>\n",
       "      <th>NumCompaniesWorked</th>\n",
       "      <th>PercentSalaryHike</th>\n",
       "      <th>PerformanceRating</th>\n",
       "      <th>StockOptionLevel</th>\n",
       "      <th>TotalWorkingYears</th>\n",
       "      <th>TrainingTimesLastYear</th>\n",
       "      <th>YearsAtCompany</th>\n",
       "      <th>YearsSinceLastPromotion</th>\n",
       "      <th>YearsWithCurrManager</th>\n",
       "      <th>Date_of_termination</th>\n",
       "      <th>Leaves</th>\n",
       "      <th>Absenteeism</th>\n",
       "      <th>Unnamed: 32</th>\n",
       "    </tr>\n",
       "  </thead>\n",
       "  <tbody>\n",
       "    <tr>\n",
       "      <th>count</th>\n",
       "      <td>1470.000000</td>\n",
       "      <td>1470.000000</td>\n",
       "      <td>1470.000000</td>\n",
       "      <td>1470.000000</td>\n",
       "      <td>1470.000000</td>\n",
       "      <td>1470.000000</td>\n",
       "      <td>1470.000000</td>\n",
       "      <td>1470.000000</td>\n",
       "      <td>1470.000000</td>\n",
       "      <td>1470.000000</td>\n",
       "      <td>1470.000000</td>\n",
       "      <td>1470.000000</td>\n",
       "      <td>1470.000000</td>\n",
       "      <td>1470.000000</td>\n",
       "      <td>1470.000000</td>\n",
       "      <td>0.0</td>\n",
       "      <td>1470.000000</td>\n",
       "      <td>1470.000000</td>\n",
       "      <td>0.0</td>\n",
       "    </tr>\n",
       "    <tr>\n",
       "      <th>mean</th>\n",
       "      <td>36.923810</td>\n",
       "      <td>9.192517</td>\n",
       "      <td>2.729932</td>\n",
       "      <td>2.063946</td>\n",
       "      <td>2.728571</td>\n",
       "      <td>6502.931293</td>\n",
       "      <td>2.693197</td>\n",
       "      <td>15.209524</td>\n",
       "      <td>3.153741</td>\n",
       "      <td>0.793878</td>\n",
       "      <td>11.279592</td>\n",
       "      <td>2.799320</td>\n",
       "      <td>7.008163</td>\n",
       "      <td>2.187755</td>\n",
       "      <td>4.123129</td>\n",
       "      <td>NaN</td>\n",
       "      <td>2.568707</td>\n",
       "      <td>1.525170</td>\n",
       "      <td>NaN</td>\n",
       "    </tr>\n",
       "    <tr>\n",
       "      <th>std</th>\n",
       "      <td>9.135373</td>\n",
       "      <td>8.106864</td>\n",
       "      <td>0.711561</td>\n",
       "      <td>1.106940</td>\n",
       "      <td>1.102846</td>\n",
       "      <td>4707.956783</td>\n",
       "      <td>2.498009</td>\n",
       "      <td>3.659938</td>\n",
       "      <td>0.360824</td>\n",
       "      <td>0.852077</td>\n",
       "      <td>7.780782</td>\n",
       "      <td>1.289271</td>\n",
       "      <td>6.126525</td>\n",
       "      <td>3.222430</td>\n",
       "      <td>3.568136</td>\n",
       "      <td>NaN</td>\n",
       "      <td>1.716171</td>\n",
       "      <td>1.097856</td>\n",
       "      <td>NaN</td>\n",
       "    </tr>\n",
       "    <tr>\n",
       "      <th>min</th>\n",
       "      <td>18.000000</td>\n",
       "      <td>1.000000</td>\n",
       "      <td>1.000000</td>\n",
       "      <td>1.000000</td>\n",
       "      <td>1.000000</td>\n",
       "      <td>1009.000000</td>\n",
       "      <td>0.000000</td>\n",
       "      <td>11.000000</td>\n",
       "      <td>3.000000</td>\n",
       "      <td>0.000000</td>\n",
       "      <td>0.000000</td>\n",
       "      <td>0.000000</td>\n",
       "      <td>0.000000</td>\n",
       "      <td>0.000000</td>\n",
       "      <td>0.000000</td>\n",
       "      <td>NaN</td>\n",
       "      <td>0.000000</td>\n",
       "      <td>0.000000</td>\n",
       "      <td>NaN</td>\n",
       "    </tr>\n",
       "    <tr>\n",
       "      <th>25%</th>\n",
       "      <td>30.000000</td>\n",
       "      <td>2.000000</td>\n",
       "      <td>2.000000</td>\n",
       "      <td>1.000000</td>\n",
       "      <td>2.000000</td>\n",
       "      <td>2911.000000</td>\n",
       "      <td>1.000000</td>\n",
       "      <td>12.000000</td>\n",
       "      <td>3.000000</td>\n",
       "      <td>0.000000</td>\n",
       "      <td>6.000000</td>\n",
       "      <td>2.000000</td>\n",
       "      <td>3.000000</td>\n",
       "      <td>0.000000</td>\n",
       "      <td>2.000000</td>\n",
       "      <td>NaN</td>\n",
       "      <td>1.000000</td>\n",
       "      <td>1.000000</td>\n",
       "      <td>NaN</td>\n",
       "    </tr>\n",
       "    <tr>\n",
       "      <th>50%</th>\n",
       "      <td>36.000000</td>\n",
       "      <td>7.000000</td>\n",
       "      <td>3.000000</td>\n",
       "      <td>2.000000</td>\n",
       "      <td>3.000000</td>\n",
       "      <td>4919.000000</td>\n",
       "      <td>2.000000</td>\n",
       "      <td>14.000000</td>\n",
       "      <td>3.000000</td>\n",
       "      <td>1.000000</td>\n",
       "      <td>10.000000</td>\n",
       "      <td>3.000000</td>\n",
       "      <td>5.000000</td>\n",
       "      <td>1.000000</td>\n",
       "      <td>3.000000</td>\n",
       "      <td>NaN</td>\n",
       "      <td>3.000000</td>\n",
       "      <td>2.000000</td>\n",
       "      <td>NaN</td>\n",
       "    </tr>\n",
       "    <tr>\n",
       "      <th>75%</th>\n",
       "      <td>43.000000</td>\n",
       "      <td>14.000000</td>\n",
       "      <td>3.000000</td>\n",
       "      <td>3.000000</td>\n",
       "      <td>4.000000</td>\n",
       "      <td>8379.000000</td>\n",
       "      <td>4.000000</td>\n",
       "      <td>18.000000</td>\n",
       "      <td>3.000000</td>\n",
       "      <td>1.000000</td>\n",
       "      <td>15.000000</td>\n",
       "      <td>3.000000</td>\n",
       "      <td>9.000000</td>\n",
       "      <td>3.000000</td>\n",
       "      <td>7.000000</td>\n",
       "      <td>NaN</td>\n",
       "      <td>4.000000</td>\n",
       "      <td>2.000000</td>\n",
       "      <td>NaN</td>\n",
       "    </tr>\n",
       "    <tr>\n",
       "      <th>max</th>\n",
       "      <td>60.000000</td>\n",
       "      <td>29.000000</td>\n",
       "      <td>4.000000</td>\n",
       "      <td>5.000000</td>\n",
       "      <td>4.000000</td>\n",
       "      <td>19999.000000</td>\n",
       "      <td>9.000000</td>\n",
       "      <td>25.000000</td>\n",
       "      <td>4.000000</td>\n",
       "      <td>3.000000</td>\n",
       "      <td>40.000000</td>\n",
       "      <td>6.000000</td>\n",
       "      <td>40.000000</td>\n",
       "      <td>15.000000</td>\n",
       "      <td>17.000000</td>\n",
       "      <td>NaN</td>\n",
       "      <td>5.000000</td>\n",
       "      <td>3.000000</td>\n",
       "      <td>NaN</td>\n",
       "    </tr>\n",
       "  </tbody>\n",
       "</table>\n",
       "</div>"
      ],
      "text/plain": [
       "               Age  DistanceFromHome  JobInvolvement     JobLevel  \\\n",
       "count  1470.000000       1470.000000     1470.000000  1470.000000   \n",
       "mean     36.923810          9.192517        2.729932     2.063946   \n",
       "std       9.135373          8.106864        0.711561     1.106940   \n",
       "min      18.000000          1.000000        1.000000     1.000000   \n",
       "25%      30.000000          2.000000        2.000000     1.000000   \n",
       "50%      36.000000          7.000000        3.000000     2.000000   \n",
       "75%      43.000000         14.000000        3.000000     3.000000   \n",
       "max      60.000000         29.000000        4.000000     5.000000   \n",
       "\n",
       "       JobSatisfaction  MonthlyIncome  NumCompaniesWorked  PercentSalaryHike  \\\n",
       "count      1470.000000    1470.000000         1470.000000        1470.000000   \n",
       "mean          2.728571    6502.931293            2.693197          15.209524   \n",
       "std           1.102846    4707.956783            2.498009           3.659938   \n",
       "min           1.000000    1009.000000            0.000000          11.000000   \n",
       "25%           2.000000    2911.000000            1.000000          12.000000   \n",
       "50%           3.000000    4919.000000            2.000000          14.000000   \n",
       "75%           4.000000    8379.000000            4.000000          18.000000   \n",
       "max           4.000000   19999.000000            9.000000          25.000000   \n",
       "\n",
       "       PerformanceRating  StockOptionLevel  TotalWorkingYears  \\\n",
       "count        1470.000000       1470.000000        1470.000000   \n",
       "mean            3.153741          0.793878          11.279592   \n",
       "std             0.360824          0.852077           7.780782   \n",
       "min             3.000000          0.000000           0.000000   \n",
       "25%             3.000000          0.000000           6.000000   \n",
       "50%             3.000000          1.000000          10.000000   \n",
       "75%             3.000000          1.000000          15.000000   \n",
       "max             4.000000          3.000000          40.000000   \n",
       "\n",
       "       TrainingTimesLastYear  YearsAtCompany  YearsSinceLastPromotion  \\\n",
       "count            1470.000000     1470.000000              1470.000000   \n",
       "mean                2.799320        7.008163                 2.187755   \n",
       "std                 1.289271        6.126525                 3.222430   \n",
       "min                 0.000000        0.000000                 0.000000   \n",
       "25%                 2.000000        3.000000                 0.000000   \n",
       "50%                 3.000000        5.000000                 1.000000   \n",
       "75%                 3.000000        9.000000                 3.000000   \n",
       "max                 6.000000       40.000000                15.000000   \n",
       "\n",
       "       YearsWithCurrManager  Date_of_termination       Leaves  Absenteeism  \\\n",
       "count           1470.000000                  0.0  1470.000000  1470.000000   \n",
       "mean               4.123129                  NaN     2.568707     1.525170   \n",
       "std                3.568136                  NaN     1.716171     1.097856   \n",
       "min                0.000000                  NaN     0.000000     0.000000   \n",
       "25%                2.000000                  NaN     1.000000     1.000000   \n",
       "50%                3.000000                  NaN     3.000000     2.000000   \n",
       "75%                7.000000                  NaN     4.000000     2.000000   \n",
       "max               17.000000                  NaN     5.000000     3.000000   \n",
       "\n",
       "       Unnamed: 32  \n",
       "count          0.0  \n",
       "mean           NaN  \n",
       "std            NaN  \n",
       "min            NaN  \n",
       "25%            NaN  \n",
       "50%            NaN  \n",
       "75%            NaN  \n",
       "max            NaN  "
      ]
     },
     "execution_count": 4,
     "metadata": {},
     "output_type": "execute_result"
    }
   ],
   "source": [
    "df_att.describe()"
   ]
  },
  {
   "cell_type": "code",
   "execution_count": 5,
   "metadata": {},
   "outputs": [
    {
     "data": {
      "text/html": [
       "<div>\n",
       "<style scoped>\n",
       "    .dataframe tbody tr th:only-of-type {\n",
       "        vertical-align: middle;\n",
       "    }\n",
       "\n",
       "    .dataframe tbody tr th {\n",
       "        vertical-align: top;\n",
       "    }\n",
       "\n",
       "    .dataframe thead th {\n",
       "        text-align: right;\n",
       "    }\n",
       "</style>\n",
       "<table border=\"1\" class=\"dataframe\">\n",
       "  <thead>\n",
       "    <tr style=\"text-align: right;\">\n",
       "      <th></th>\n",
       "      <th>Attrition</th>\n",
       "      <th>BusinessTravel</th>\n",
       "      <th>Department</th>\n",
       "      <th>Gender</th>\n",
       "      <th>JobRole</th>\n",
       "      <th>MaritalStatus</th>\n",
       "      <th>OverTime</th>\n",
       "      <th>Higher_Education</th>\n",
       "      <th>Date_of_Hire</th>\n",
       "      <th>Status_of_leaving</th>\n",
       "      <th>Mode_of_work</th>\n",
       "      <th>Work_accident</th>\n",
       "      <th>Source_of_Hire</th>\n",
       "      <th>Job_mode</th>\n",
       "    </tr>\n",
       "  </thead>\n",
       "  <tbody>\n",
       "    <tr>\n",
       "      <th>count</th>\n",
       "      <td>1470</td>\n",
       "      <td>1470</td>\n",
       "      <td>1470</td>\n",
       "      <td>1470</td>\n",
       "      <td>1470</td>\n",
       "      <td>1470</td>\n",
       "      <td>1470</td>\n",
       "      <td>1470</td>\n",
       "      <td>1470</td>\n",
       "      <td>1470</td>\n",
       "      <td>1470</td>\n",
       "      <td>1470</td>\n",
       "      <td>1470</td>\n",
       "      <td>1470</td>\n",
       "    </tr>\n",
       "    <tr>\n",
       "      <th>unique</th>\n",
       "      <td>2</td>\n",
       "      <td>3</td>\n",
       "      <td>3</td>\n",
       "      <td>2</td>\n",
       "      <td>9</td>\n",
       "      <td>3</td>\n",
       "      <td>2</td>\n",
       "      <td>4</td>\n",
       "      <td>1112</td>\n",
       "      <td>5</td>\n",
       "      <td>2</td>\n",
       "      <td>2</td>\n",
       "      <td>4</td>\n",
       "      <td>3</td>\n",
       "    </tr>\n",
       "    <tr>\n",
       "      <th>top</th>\n",
       "      <td>No</td>\n",
       "      <td>Travel_Rarely</td>\n",
       "      <td>Research &amp; Development</td>\n",
       "      <td>Male</td>\n",
       "      <td>Sales Executive</td>\n",
       "      <td>Married</td>\n",
       "      <td>No</td>\n",
       "      <td>Post-Graduation</td>\n",
       "      <td>17-02-2016</td>\n",
       "      <td>Dept.Head</td>\n",
       "      <td>WFH</td>\n",
       "      <td>No</td>\n",
       "      <td>Recruiter</td>\n",
       "      <td>FullTime</td>\n",
       "    </tr>\n",
       "    <tr>\n",
       "      <th>freq</th>\n",
       "      <td>1233</td>\n",
       "      <td>1043</td>\n",
       "      <td>961</td>\n",
       "      <td>882</td>\n",
       "      <td>326</td>\n",
       "      <td>673</td>\n",
       "      <td>1054</td>\n",
       "      <td>387</td>\n",
       "      <td>5</td>\n",
       "      <td>314</td>\n",
       "      <td>768</td>\n",
       "      <td>736</td>\n",
       "      <td>390</td>\n",
       "      <td>517</td>\n",
       "    </tr>\n",
       "  </tbody>\n",
       "</table>\n",
       "</div>"
      ],
      "text/plain": [
       "       Attrition BusinessTravel              Department Gender  \\\n",
       "count       1470           1470                    1470   1470   \n",
       "unique         2              3                       3      2   \n",
       "top           No  Travel_Rarely  Research & Development   Male   \n",
       "freq        1233           1043                     961    882   \n",
       "\n",
       "                JobRole MaritalStatus OverTime Higher_Education Date_of_Hire  \\\n",
       "count              1470          1470     1470             1470         1470   \n",
       "unique                9             3        2                4         1112   \n",
       "top     Sales Executive       Married       No  Post-Graduation   17-02-2016   \n",
       "freq                326           673     1054              387            5   \n",
       "\n",
       "       Status_of_leaving Mode_of_work Work_accident Source_of_Hire  Job_mode  \n",
       "count               1470         1470          1470           1470      1470  \n",
       "unique                 5            2             2              4         3  \n",
       "top            Dept.Head          WFH            No      Recruiter  FullTime  \n",
       "freq                 314          768           736            390       517  "
      ]
     },
     "execution_count": 5,
     "metadata": {},
     "output_type": "execute_result"
    }
   ],
   "source": [
    "df_att.describe(include='object')"
   ]
  },
  {
   "cell_type": "code",
   "execution_count": 6,
   "metadata": {},
   "outputs": [
    {
     "data": {
      "text/plain": [
       "Age                           0\n",
       "Attrition                     0\n",
       "BusinessTravel                0\n",
       "Department                    0\n",
       "DistanceFromHome              0\n",
       "Gender                        0\n",
       "JobInvolvement                0\n",
       "JobLevel                      0\n",
       "JobRole                       0\n",
       "JobSatisfaction               0\n",
       "MaritalStatus                 0\n",
       "MonthlyIncome                 0\n",
       "NumCompaniesWorked            0\n",
       "OverTime                      0\n",
       "PercentSalaryHike             0\n",
       "PerformanceRating             0\n",
       "StockOptionLevel              0\n",
       "TotalWorkingYears             0\n",
       "TrainingTimesLastYear         0\n",
       "YearsAtCompany                0\n",
       "YearsSinceLastPromotion       0\n",
       "YearsWithCurrManager          0\n",
       "Higher_Education              0\n",
       "Date_of_Hire                  0\n",
       "Date_of_termination        1470\n",
       "Status_of_leaving             0\n",
       "Mode_of_work                  0\n",
       "Leaves                        0\n",
       "Absenteeism                   0\n",
       "Work_accident                 0\n",
       "Source_of_Hire                0\n",
       "Job_mode                      0\n",
       "Unnamed: 32                1470\n",
       "dtype: int64"
      ]
     },
     "execution_count": 6,
     "metadata": {},
     "output_type": "execute_result"
    }
   ],
   "source": [
    "df_att.isna().sum()"
   ]
  },
  {
   "cell_type": "code",
   "execution_count": 7,
   "metadata": {},
   "outputs": [
    {
     "data": {
      "text/plain": [
       "(No     1233\n",
       " Yes     237\n",
       " Name: Attrition, dtype: int64,\n",
       " No     83.88\n",
       " Yes    16.12\n",
       " Name: Attrition, dtype: float64)"
      ]
     },
     "execution_count": 7,
     "metadata": {},
     "output_type": "execute_result"
    }
   ],
   "source": [
    "df_att.Attrition.value_counts(), np.round(df_att.Attrition.value_counts(normalize=True)*100, 2)"
   ]
  },
  {
   "cell_type": "markdown",
   "metadata": {},
   "source": [
    "## Pandas Profiling"
   ]
  },
  {
   "cell_type": "code",
   "execution_count": 8,
   "metadata": {},
   "outputs": [],
   "source": [
    "profile = ProfileReport(df_att, title=\"Pandas Profiling Report\")"
   ]
  },
  {
   "cell_type": "code",
   "execution_count": 9,
   "metadata": {},
   "outputs": [
    {
     "data": {
      "application/vnd.jupyter.widget-view+json": {
       "model_id": "5ccad97f3dd64cf7b7628965fc864958",
       "version_major": 2,
       "version_minor": 0
      },
      "text/plain": [
       "Summarize dataset:   0%|          | 0/5 [00:00<?, ?it/s]"
      ]
     },
     "metadata": {},
     "output_type": "display_data"
    },
    {
     "data": {
      "application/vnd.jupyter.widget-view+json": {
       "model_id": "993bce9acd7c4432b277165b045a37de",
       "version_major": 2,
       "version_minor": 0
      },
      "text/plain": [
       "Generate report structure:   0%|          | 0/1 [00:00<?, ?it/s]"
      ]
     },
     "metadata": {},
     "output_type": "display_data"
    },
    {
     "data": {
      "application/vnd.jupyter.widget-view+json": {
       "model_id": "",
       "version_major": 2,
       "version_minor": 0
      },
      "text/plain": [
       "Render widgets:   0%|          | 0/1 [00:00<?, ?it/s]"
      ]
     },
     "metadata": {},
     "output_type": "display_data"
    },
    {
     "data": {
      "application/vnd.jupyter.widget-view+json": {
       "model_id": "f5f02a1419984fddbef5b17e4cb613f5",
       "version_major": 2,
       "version_minor": 0
      },
      "text/plain": [
       "VBox(children=(Tab(children=(Tab(children=(GridBox(children=(VBox(children=(GridspecLayout(children=(HTML(valu…"
      ]
     },
     "metadata": {},
     "output_type": "display_data"
    }
   ],
   "source": [
    "profile.to_widgets()"
   ]
  },
  {
   "cell_type": "code",
   "execution_count": null,
   "metadata": {},
   "outputs": [],
   "source": [
    "profile.to_notebook_iframe()"
   ]
  },
  {
   "cell_type": "markdown",
   "metadata": {},
   "source": [
    "## Dropping columns with all Null values or high Cardinality"
   ]
  },
  {
   "cell_type": "code",
   "execution_count": 10,
   "metadata": {},
   "outputs": [
    {
     "data": {
      "text/plain": [
       "(1470, 30)"
      ]
     },
     "execution_count": 10,
     "metadata": {},
     "output_type": "execute_result"
    }
   ],
   "source": [
    "df_att.drop(columns=['Date_of_termination', 'Unnamed: 32', 'Date_of_Hire'], inplace=True)\n",
    "df_att.shape"
   ]
  },
  {
   "cell_type": "markdown",
   "metadata": {},
   "source": [
    "# EDA"
   ]
  },
  {
   "cell_type": "markdown",
   "metadata": {},
   "source": [
    "## Univariate analysis"
   ]
  },
  {
   "cell_type": "code",
   "execution_count": 11,
   "metadata": {},
   "outputs": [
    {
     "name": "stdout",
     "output_type": "stream",
     "text": [
      "\n",
      " 1. Column name : Attrition\n"
     ]
    },
    {
     "data": {
      "image/png": "[encoded data removed]",
      "text/plain": [
       "<Figure size 432x288 with 1 Axes>"
      ]
     },
     "metadata": {
      "needs_background": "light"
     },
     "output_type": "display_data"
    },
    {
     "name": "stdout",
     "output_type": "stream",
     "text": [
      "\n",
      " 2. Column name : BusinessTravel\n"
     ]
    },
    {
     "data": {
      "image/png": "[encoded data removed]",
      "text/plain": [
       "<Figure size 432x288 with 1 Axes>"
      ]
     },
     "metadata": {
      "needs_background": "light"
     },
     "output_type": "display_data"
    },
    {
     "name": "stdout",
     "output_type": "stream",
     "text": [
      "\n",
      " 3. Column name : Department\n"
     ]
    },
    {
     "data": {
      "image/png": "[encoded data removed]",
      "text/plain": [
       "<Figure size 432x288 with 1 Axes>"
      ]
     },
     "metadata": {
      "needs_background": "light"
     },
     "output_type": "display_data"
    },
    {
     "name": "stdout",
     "output_type": "stream",
     "text": [
      "\n",
      " 4. Column name : Gender\n"
     ]
    },
    {
     "data": {
      "image/png": "[encoded data removed]",
      "text/plain": [
       "<Figure size 432x288 with 1 Axes>"
      ]
     },
     "metadata": {
      "needs_background": "light"
     },
     "output_type": "display_data"
    },
    {
     "name": "stdout",
     "output_type": "stream",
     "text": [
      "\n",
      " 5. Column name : JobRole\n"
     ]
    },
    {
     "data": {
      "image/png": "[encoded data removed]",
      "text/plain": [
       "<Figure size 432x288 with 1 Axes>"
      ]
     },
     "metadata": {
      "needs_background": "light"
     },
     "output_type": "display_data"
    },
    {
     "name": "stdout",
     "output_type": "stream",
     "text": [
      "\n",
      " 6. Column name : MaritalStatus\n"
     ]
    },
    {
     "data": {
      "image/png": "[encoded data removed]",
      "text/plain": [
       "<Figure size 432x288 with 1 Axes>"
      ]
     },
     "metadata": {
      "needs_background": "light"
     },
     "output_type": "display_data"
    },
    {
     "name": "stdout",
     "output_type": "stream",
     "text": [
      "\n",
      " 7. Column name : OverTime\n"
     ]
    },
    {
     "data": {
      "image/png": "[encoded data removed]",
      "text/plain": [
       "<Figure size 432x288 with 1 Axes>"
      ]
     },
     "metadata": {
      "needs_background": "light"
     },
     "output_type": "display_data"
    },
    {
     "name": "stdout",
     "output_type": "stream",
     "text": [
      "\n",
      " 8. Column name : Higher_Education\n"
     ]
    },
    {
     "data": {
      "image/png": "[encoded data removed]",
      "text/plain": [
       "<Figure size 432x288 with 1 Axes>"
      ]
     },
     "metadata": {
      "needs_background": "light"
     },
     "output_type": "display_data"
    },
    {
     "name": "stdout",
     "output_type": "stream",
     "text": [
      "\n",
      " 9. Column name : Status_of_leaving\n"
     ]
    },
    {
     "data": {
      "image/png": "[encoded data removed]",
      "text/plain": [
       "<Figure size 432x288 with 1 Axes>"
      ]
     },
     "metadata": {
      "needs_background": "light"
     },
     "output_type": "display_data"
    },
    {
     "name": "stdout",
     "output_type": "stream",
     "text": [
      "\n",
      " 10. Column name : Mode_of_work\n"
     ]
    },
    {
     "data": {
      "image/png": "[encoded data removed]",
      "text/plain": [
       "<Figure size 432x288 with 1 Axes>"
      ]
     },
     "metadata": {
      "needs_background": "light"
     },
     "output_type": "display_data"
    },
    {
     "name": "stdout",
     "output_type": "stream",
     "text": [
      "\n",
      " 11. Column name : Work_accident\n"
     ]
    },
    {
     "data": {
      "image/png": "[encoded data removed]",
      "text/plain": [
       "<Figure size 432x288 with 1 Axes>"
      ]
     },
     "metadata": {
      "needs_background": "light"
     },
     "output_type": "display_data"
    },
    {
     "name": "stdout",
     "output_type": "stream",
     "text": [
      "\n",
      " 12. Column name : Source_of_Hire\n"
     ]
    },
    {
     "data": {
      "image/png": "[encoded data removed]",
      "text/plain": [
       "<Figure size 432x288 with 1 Axes>"
      ]
     },
     "metadata": {
      "needs_background": "light"
     },
     "output_type": "display_data"
    },
    {
     "name": "stdout",
     "output_type": "stream",
     "text": [
      "\n",
      " 13. Column name : Job_mode\n"
     ]
    },
    {
     "data": {
      "image/png": "[encoded data removed]",
      "text/plain": [
       "<Figure size 432x288 with 1 Axes>"
      ]
     },
     "metadata": {
      "needs_background": "light"
     },
     "output_type": "display_data"
    }
   ],
   "source": [
    "count1 = 1\n",
    "for item in list(df_att.describe(include='object').columns):\n",
    "    print('\\n {}. Column name : {}'.format(count1,item))\n",
    "    sns.countplot(df_att[item])\n",
    "    plt.show()\n",
    "    count1 += 1"
   ]
  },
  {
   "cell_type": "code",
   "execution_count": 14,
   "metadata": {
    "scrolled": true
   },
   "outputs": [
    {
     "name": "stdout",
     "output_type": "stream",
     "text": [
      "\n",
      " 1. Column name : Age\n"
     ]
    },
    {
     "data": {
      "image/png": "[encoded data removed]",
      "text/plain": [
       "<Figure size 432x288 with 1 Axes>"
      ]
     },
     "metadata": {
      "needs_background": "light"
     },
     "output_type": "display_data"
    },
    {
     "name": "stdout",
     "output_type": "stream",
     "text": [
      "\n",
      " 2. Column name : DistanceFromHome\n"
     ]
    },
    {
     "data": {
      "image/png": "[encoded data removed]",
      "text/plain": [
       "<Figure size 432x288 with 1 Axes>"
      ]
     },
     "metadata": {
      "needs_background": "light"
     },
     "output_type": "display_data"
    },
    {
     "name": "stdout",
     "output_type": "stream",
     "text": [
      "\n",
      " 3. Column name : JobInvolvement\n"
     ]
    },
    {
     "data": {
      "image/png": "[encoded data removed]",
      "text/plain": [
       "<Figure size 432x288 with 1 Axes>"
      ]
     },
     "metadata": {
      "needs_background": "light"
     },
     "output_type": "display_data"
    },
    {
     "name": "stdout",
     "output_type": "stream",
     "text": [
      "\n",
      " 4. Column name : JobLevel\n"
     ]
    },
    {
     "data": {
      "image/png": "[encoded data removed]",
      "text/plain": [
       "<Figure size 432x288 with 1 Axes>"
      ]
     },
     "metadata": {
      "needs_background": "light"
     },
     "output_type": "display_data"
    },
    {
     "name": "stdout",
     "output_type": "stream",
     "text": [
      "\n",
      " 5. Column name : JobSatisfaction\n"
     ]
    },
    {
     "data": {
      "image/png": "[encoded data removed]",
      "text/plain": [
       "<Figure size 432x288 with 1 Axes>"
      ]
     },
     "metadata": {
      "needs_background": "light"
     },
     "output_type": "display_data"
    },
    {
     "name": "stdout",
     "output_type": "stream",
     "text": [
      "\n",
      " 6. Column name : MonthlyIncome\n"
     ]
    },
    {
     "data": {
      "image/png": "[encoded data removed]",
      "text/plain": [
       "<Figure size 432x288 with 1 Axes>"
      ]
     },
     "metadata": {
      "needs_background": "light"
     },
     "output_type": "display_data"
    },
    {
     "name": "stdout",
     "output_type": "stream",
     "text": [
      "\n",
      " 7. Column name : NumCompaniesWorked\n"
     ]
    },
    {
     "data": {
      "image/png": "[encoded data removed]",
      "text/plain": [
       "<Figure size 432x288 with 1 Axes>"
      ]
     },
     "metadata": {
      "needs_background": "light"
     },
     "output_type": "display_data"
    },
    {
     "name": "stdout",
     "output_type": "stream",
     "text": [
      "\n",
      " 8. Column name : PercentSalaryHike\n"
     ]
    },
    {
     "data": {
      "image/png": "[encoded data removed]",
      "text/plain": [
       "<Figure size 432x288 with 1 Axes>"
      ]
     },
     "metadata": {
      "needs_background": "light"
     },
     "output_type": "display_data"
    },
    {
     "name": "stdout",
     "output_type": "stream",
     "text": [
      "\n",
      " 9. Column name : PerformanceRating\n"
     ]
    },
    {
     "data": {
      "image/png": "[encoded data removed]",
      "text/plain": [
       "<Figure size 432x288 with 1 Axes>"
      ]
     },
     "metadata": {
      "needs_background": "light"
     },
     "output_type": "display_data"
    },
    {
     "name": "stdout",
     "output_type": "stream",
     "text": [
      "\n",
      " 10. Column name : StockOptionLevel\n"
     ]
    },
    {
     "data": {
      "image/png": "[encoded data removed]",
      "text/plain": [
       "<Figure size 432x288 with 1 Axes>"
      ]
     },
     "metadata": {
      "needs_background": "light"
     },
     "output_type": "display_data"
    },
    {
     "name": "stdout",
     "output_type": "stream",
     "text": [
      "\n",
      " 11. Column name : TotalWorkingYears\n"
     ]
    },
    {
     "data": {
      "image/png": "[encoded data removed]",
      "text/plain": [
       "<Figure size 432x288 with 1 Axes>"
      ]
     },
     "metadata": {
      "needs_background": "light"
     },
     "output_type": "display_data"
    },
    {
     "name": "stdout",
     "output_type": "stream",
     "text": [
      "\n",
      " 12. Column name : TrainingTimesLastYear\n"
     ]
    },
    {
     "data": {
      "image/png": "[encoded data removed]",
      "text/plain": [
       "<Figure size 432x288 with 1 Axes>"
      ]
     },
     "metadata": {
      "needs_background": "light"
     },
     "output_type": "display_data"
    },
    {
     "name": "stdout",
     "output_type": "stream",
     "text": [
      "\n",
      " 13. Column name : YearsAtCompany\n"
     ]
    },
    {
     "data": {
      "image/png": "[encoded data removed]",
      "text/plain": [
       "<Figure size 432x288 with 1 Axes>"
      ]
     },
     "metadata": {
      "needs_background": "light"
     },
     "output_type": "display_data"
    },
    {
     "name": "stdout",
     "output_type": "stream",
     "text": [
      "\n",
      " 14. Column name : YearsSinceLastPromotion\n"
     ]
    },
    {
     "data": {
      "image/png": "[encoded data removed]",
      "text/plain": [
       "<Figure size 432x288 with 1 Axes>"
      ]
     },
     "metadata": {
      "needs_background": "light"
     },
     "output_type": "display_data"
    },
    {
     "name": "stdout",
     "output_type": "stream",
     "text": [
      "\n",
      " 15. Column name : YearsWithCurrManager\n"
     ]
    },
    {
     "data": {
      "image/png": "[encoded data removed]",
      "text/plain": [
       "<Figure size 432x288 with 1 Axes>"
      ]
     },
     "metadata": {
      "needs_background": "light"
     },
     "output_type": "display_data"
    },
    {
     "name": "stdout",
     "output_type": "stream",
     "text": [
      "\n",
      " 16. Column name : Leaves\n"
     ]
    },
    {
     "data": {
      "image/png": "[encoded data removed]",
      "text/plain": [
       "<Figure size 432x288 with 1 Axes>"
      ]
     },
     "metadata": {
      "needs_background": "light"
     },
     "output_type": "display_data"
    },
    {
     "name": "stdout",
     "output_type": "stream",
     "text": [
      "\n",
      " 17. Column name : Absenteeism\n"
     ]
    },
    {
     "data": {
      "image/png": "[encoded data removed]",
      "text/plain": [
       "<Figure size 432x288 with 1 Axes>"
      ]
     },
     "metadata": {
      "needs_background": "light"
     },
     "output_type": "display_data"
    }
   ],
   "source": [
    "count2 = 1\n",
    "for item in list(df_att.describe(include='int64').columns):\n",
    "    print('\\n {}. Column name : {}'.format(count2,item))\n",
    "    sns.distplot(df_att[item], kde_kws={'bw': 0.2})\n",
    "    plt.show()\n",
    "    count2 += 1"
   ]
  },
  {
   "cell_type": "markdown",
   "metadata": {},
   "source": [
    "## Bivariate analysis"
   ]
  },
  {
   "cell_type": "code",
   "execution_count": 15,
   "metadata": {},
   "outputs": [
    {
     "data": {
      "text/plain": [
       "(12, 17, 30)"
      ]
     },
     "execution_count": 15,
     "metadata": {},
     "output_type": "execute_result"
    }
   ],
   "source": [
    "tar_col = 'Attrition'\n",
    "lst_obj_col = [x for x in list(df_att.describe(include='object').columns) if x !=  tar_col]\n",
    "lst_int_col = [x for x in list(df_att.describe(include='int64').columns) if x != tar_col]\n",
    "len(lst_obj_col), len(lst_int_col), len(df_att.columns)"
   ]
  },
  {
   "cell_type": "code",
   "execution_count": 16,
   "metadata": {},
   "outputs": [
    {
     "name": "stdout",
     "output_type": "stream",
     "text": [
      "\n",
      " 1. BusinessTravel VS Attrition\n"
     ]
    },
    {
     "data": {
      "image/png": "[encoded data removed]",
      "text/plain": [
       "<Figure size 432x288 with 1 Axes>"
      ]
     },
     "metadata": {
      "needs_background": "light"
     },
     "output_type": "display_data"
    },
    {
     "name": "stdout",
     "output_type": "stream",
     "text": [
      "\n",
      " 2. Department VS Attrition\n"
     ]
    },
    {
     "data": {
      "image/png": "[encoded data removed]",
      "text/plain": [
       "<Figure size 432x288 with 1 Axes>"
      ]
     },
     "metadata": {
      "needs_background": "light"
     },
     "output_type": "display_data"
    },
    {
     "name": "stdout",
     "output_type": "stream",
     "text": [
      "\n",
      " 3. Gender VS Attrition\n"
     ]
    },
    {
     "data": {
      "image/png": "[encoded data removed]",
      "text/plain": [
       "<Figure size 432x288 with 1 Axes>"
      ]
     },
     "metadata": {
      "needs_background": "light"
     },
     "output_type": "display_data"
    },
    {
     "name": "stdout",
     "output_type": "stream",
     "text": [
      "\n",
      " 4. JobRole VS Attrition\n"
     ]
    },
    {
     "data": {
      "image/png": "[encoded data removed]",
      "text/plain": [
       "<Figure size 432x288 with 1 Axes>"
      ]
     },
     "metadata": {
      "needs_background": "light"
     },
     "output_type": "display_data"
    },
    {
     "name": "stdout",
     "output_type": "stream",
     "text": [
      "\n",
      " 5. MaritalStatus VS Attrition\n"
     ]
    },
    {
     "data": {
      "image/png": "[encoded data removed]",
      "text/plain": [
       "<Figure size 432x288 with 1 Axes>"
      ]
     },
     "metadata": {
      "needs_background": "light"
     },
     "output_type": "display_data"
    },
    {
     "name": "stdout",
     "output_type": "stream",
     "text": [
      "\n",
      " 6. OverTime VS Attrition\n"
     ]
    },
    {
     "data": {
      "image/png": "[encoded data removed]",
      "text/plain": [
       "<Figure size 432x288 with 1 Axes>"
      ]
     },
     "metadata": {
      "needs_background": "light"
     },
     "output_type": "display_data"
    },
    {
     "name": "stdout",
     "output_type": "stream",
     "text": [
      "\n",
      " 7. Higher_Education VS Attrition\n"
     ]
    },
    {
     "data": {
      "image/png": "[encoded data removed]",
      "text/plain": [
       "<Figure size 432x288 with 1 Axes>"
      ]
     },
     "metadata": {
      "needs_background": "light"
     },
     "output_type": "display_data"
    },
    {
     "name": "stdout",
     "output_type": "stream",
     "text": [
      "\n",
      " 8. Status_of_leaving VS Attrition\n"
     ]
    },
    {
     "data": {
      "image/png": "[encoded data removed]",
      "text/plain": [
       "<Figure size 432x288 with 1 Axes>"
      ]
     },
     "metadata": {
      "needs_background": "light"
     },
     "output_type": "display_data"
    },
    {
     "name": "stdout",
     "output_type": "stream",
     "text": [
      "\n",
      " 9. Mode_of_work VS Attrition\n"
     ]
    },
    {
     "data": {
      "image/png": "[encoded data removed]",
      "text/plain": [
       "<Figure size 432x288 with 1 Axes>"
      ]
     },
     "metadata": {
      "needs_background": "light"
     },
     "output_type": "display_data"
    },
    {
     "name": "stdout",
     "output_type": "stream",
     "text": [
      "\n",
      " 10. Work_accident VS Attrition\n"
     ]
    },
    {
     "data": {
      "image/png": "[encoded data removed]",
      "text/plain": [
       "<Figure size 432x288 with 1 Axes>"
      ]
     },
     "metadata": {
      "needs_background": "light"
     },
     "output_type": "display_data"
    },
    {
     "name": "stdout",
     "output_type": "stream",
     "text": [
      "\n",
      " 11. Source_of_Hire VS Attrition\n"
     ]
    },
    {
     "data": {
      "image/png": "[encoded data removed]",
      "text/plain": [
       "<Figure size 432x288 with 1 Axes>"
      ]
     },
     "metadata": {
      "needs_background": "light"
     },
     "output_type": "display_data"
    },
    {
     "name": "stdout",
     "output_type": "stream",
     "text": [
      "\n",
      " 12. Job_mode VS Attrition\n"
     ]
    },
    {
     "data": {
      "image/png": "[encoded data removed]",
      "text/plain": [
       "<Figure size 432x288 with 1 Axes>"
      ]
     },
     "metadata": {
      "needs_background": "light"
     },
     "output_type": "display_data"
    }
   ],
   "source": [
    "count3 = 1\n",
    "for item in lst_obj_col:\n",
    "    print('\\n {}. {} VS {}'.format(count3,item,tar_col))\n",
    "    sns.countplot(data=df_att, x=tar_col, hue=item)\n",
    "    plt.show()\n",
    "    count3 += 1"
   ]
  },
  {
   "cell_type": "markdown",
   "metadata": {},
   "source": [
    "# Check correlation"
   ]
  },
  {
   "cell_type": "code",
   "execution_count": 17,
   "metadata": {},
   "outputs": [],
   "source": [
    "corr = df_att[lst_int_col].corr()"
   ]
  },
  {
   "cell_type": "code",
   "execution_count": 18,
   "metadata": {},
   "outputs": [
    {
     "data": {
      "text/html": [
       "<style type=\"text/css\">\n",
       "#T_68479_row0_col0, #T_68479_row1_col1, #T_68479_row2_col2, #T_68479_row3_col3, #T_68479_row4_col4, #T_68479_row5_col5, #T_68479_row6_col6, #T_68479_row7_col7, #T_68479_row8_col8, #T_68479_row9_col9, #T_68479_row10_col10, #T_68479_row11_col11, #T_68479_row12_col12, #T_68479_row13_col13, #T_68479_row14_col14, #T_68479_row15_col15, #T_68479_row16_col16 {\n",
       "  background-color: #b40426;\n",
       "  color: #f1f1f1;\n",
       "}\n",
       "#T_68479_row0_col1, #T_68479_row0_col9, #T_68479_row2_col4, #T_68479_row3_col16, #T_68479_row4_col1, #T_68479_row4_col3, #T_68479_row8_col16, #T_68479_row9_col5, #T_68479_row9_col8, #T_68479_row10_col4, #T_68479_row10_col8, #T_68479_row11_col13, #T_68479_row12_col8, #T_68479_row12_col16 {\n",
       "  background-color: #445acc;\n",
       "  color: #f1f1f1;\n",
       "}\n",
       "#T_68479_row0_col2, #T_68479_row4_col6, #T_68479_row4_col11, #T_68479_row7_col11, #T_68479_row8_col4, #T_68479_row9_col0, #T_68479_row9_col10, #T_68479_row9_col15, #T_68479_row14_col11, #T_68479_row16_col11 {\n",
       "  background-color: #4b64d5;\n",
       "  color: #f1f1f1;\n",
       "}\n",
       "#T_68479_row0_col3, #T_68479_row12_col5 {\n",
       "  background-color: #e3d9d3;\n",
       "  color: #000000;\n",
       "}\n",
       "#T_68479_row0_col4, #T_68479_row1_col4, #T_68479_row1_col10, #T_68479_row2_col0, #T_68479_row2_col11, #T_68479_row8_col11, #T_68479_row9_col2, #T_68479_row9_col3, #T_68479_row9_col13, #T_68479_row11_col4, #T_68479_row12_col4, #T_68479_row13_col15, #T_68479_row14_col1, #T_68479_row14_col8 {\n",
       "  background-color: #4961d2;\n",
       "  color: #f1f1f1;\n",
       "}\n",
       "#T_68479_row0_col5 {\n",
       "  background-color: #dfdbd9;\n",
       "  color: #000000;\n",
       "}\n",
       "#T_68479_row0_col6 {\n",
       "  background-color: #b7cff9;\n",
       "  color: #000000;\n",
       "}\n",
       "#T_68479_row0_col7, #T_68479_row1_col2, #T_68479_row1_col3, #T_68479_row6_col16, #T_68479_row7_col15, #T_68479_row8_col15, #T_68479_row13_col4 {\n",
       "  background-color: #455cce;\n",
       "  color: #f1f1f1;\n",
       "}\n",
       "#T_68479_row0_col8, #T_68479_row4_col8, #T_68479_row5_col16, #T_68479_row10_col11, #T_68479_row11_col7, #T_68479_row15_col5, #T_68479_row15_col7, #T_68479_row16_col2, #T_68479_row16_col7 {\n",
       "  background-color: #4358cb;\n",
       "  color: #f1f1f1;\n",
       "}\n",
       "#T_68479_row0_col10 {\n",
       "  background-color: #f7af91;\n",
       "  color: #000000;\n",
       "}\n",
       "#T_68479_row0_col11, #T_68479_row1_col13, #T_68479_row2_col1, #T_68479_row2_col16, #T_68479_row3_col11, #T_68479_row5_col4, #T_68479_row5_col15, #T_68479_row11_col6, #T_68479_row12_col1, #T_68479_row13_col1, #T_68479_row13_col8, #T_68479_row15_col2 {\n",
       "  background-color: #485fd1;\n",
       "  color: #f1f1f1;\n",
       "}\n",
       "#T_68479_row0_col12 {\n",
       "  background-color: #bbd1f8;\n",
       "  color: #000000;\n",
       "}\n",
       "#T_68479_row0_col13 {\n",
       "  background-color: #8badfd;\n",
       "  color: #000000;\n",
       "}\n",
       "#T_68479_row0_col14 {\n",
       "  background-color: #98b9ff;\n",
       "  color: #000000;\n",
       "}\n",
       "#T_68479_row0_col15, #T_68479_row4_col14, #T_68479_row7_col1, #T_68479_row15_col10, #T_68479_row15_col16, #T_68479_row16_col14 {\n",
       "  background-color: #516ddb;\n",
       "  color: #f1f1f1;\n",
       "}\n",
       "#T_68479_row0_col16, #T_68479_row1_col9, #T_68479_row2_col10, #T_68479_row3_col1, #T_68479_row5_col11, #T_68479_row6_col2, #T_68479_row7_col16, #T_68479_row9_col7, #T_68479_row10_col1, #T_68479_row11_col16, #T_68479_row15_col13, #T_68479_row16_col13 {\n",
       "  background-color: #465ecf;\n",
       "  color: #f1f1f1;\n",
       "}\n",
       "#T_68479_row1_col0, #T_68479_row2_col7, #T_68479_row2_col9, #T_68479_row3_col2, #T_68479_row4_col13, #T_68479_row5_col1, #T_68479_row11_col3, #T_68479_row16_col9 {\n",
       "  background-color: #3f53c6;\n",
       "  color: #f1f1f1;\n",
       "}\n",
       "#T_68479_row1_col5, #T_68479_row2_col5, #T_68479_row3_col9, #T_68479_row5_col7, #T_68479_row5_col8, #T_68479_row7_col2, #T_68479_row8_col5, #T_68479_row12_col9, #T_68479_row13_col9, #T_68479_row15_col4, #T_68479_row15_col9, #T_68479_row16_col5 {\n",
       "  background-color: #3d50c3;\n",
       "  color: #f1f1f1;\n",
       "}\n",
       "#T_68479_row1_col6, #T_68479_row9_col1 {\n",
       "  background-color: #536edd;\n",
       "  color: #f1f1f1;\n",
       "}\n",
       "#T_68479_row1_col7, #T_68479_row7_col4, #T_68479_row7_col12, #T_68479_row9_col11, #T_68479_row10_col15, #T_68479_row11_col15, #T_68479_row12_col15, #T_68479_row13_col6, #T_68479_row16_col15 {\n",
       "  background-color: #506bda;\n",
       "  color: #f1f1f1;\n",
       "}\n",
       "#T_68479_row1_col8, #T_68479_row3_col4, #T_68479_row4_col7, #T_68479_row8_col10, #T_68479_row8_col13, #T_68479_row13_col16, #T_68479_row14_col2, #T_68479_row15_col0 {\n",
       "  background-color: #4a63d3;\n",
       "  color: #f1f1f1;\n",
       "}\n",
       "#T_68479_row1_col11, #T_68479_row4_col10, #T_68479_row6_col7, #T_68479_row6_col9, #T_68479_row7_col10, #T_68479_row14_col4, #T_68479_row16_col4 {\n",
       "  background-color: #4257c9;\n",
       "  color: #f1f1f1;\n",
       "}\n",
       "#T_68479_row1_col12 {\n",
       "  background-color: #5e7de7;\n",
       "  color: #f1f1f1;\n",
       "}\n",
       "#T_68479_row1_col14 {\n",
       "  background-color: #5d7ce6;\n",
       "  color: #f1f1f1;\n",
       "}\n",
       "#T_68479_row1_col15, #T_68479_row2_col3, #T_68479_row4_col5, #T_68479_row4_col16, #T_68479_row7_col0, #T_68479_row8_col0, #T_68479_row10_col2, #T_68479_row14_col7, #T_68479_row14_col9, #T_68479_row14_col16, #T_68479_row15_col8, #T_68479_row16_col3 {\n",
       "  background-color: #4055c8;\n",
       "  color: #f1f1f1;\n",
       "}\n",
       "#T_68479_row1_col16, #T_68479_row3_col15, #T_68479_row14_col15 {\n",
       "  background-color: #4f69d9;\n",
       "  color: #f1f1f1;\n",
       "}\n",
       "#T_68479_row2_col6, #T_68479_row8_col14, #T_68479_row9_col12 {\n",
       "  background-color: #5f7fe8;\n",
       "  color: #f1f1f1;\n",
       "}\n",
       "#T_68479_row2_col8, #T_68479_row3_col7, #T_68479_row4_col15, #T_68479_row5_col9, #T_68479_row6_col4, #T_68479_row6_col11, #T_68479_row6_col12, #T_68479_row6_col13, #T_68479_row6_col14, #T_68479_row7_col3, #T_68479_row7_col5, #T_68479_row8_col2, #T_68479_row8_col9, #T_68479_row10_col16, #T_68479_row11_col0, #T_68479_row11_col1, #T_68479_row12_col6, #T_68479_row12_col7, #T_68479_row16_col10 {\n",
       "  background-color: #3b4cc0;\n",
       "  color: #f1f1f1;\n",
       "}\n",
       "#T_68479_row2_col12, #T_68479_row7_col14 {\n",
       "  background-color: #5572df;\n",
       "  color: #f1f1f1;\n",
       "}\n",
       "#T_68479_row2_col13, #T_68479_row4_col0, #T_68479_row5_col2, #T_68479_row6_col8, #T_68479_row7_col13, #T_68479_row8_col3, #T_68479_row10_col7, #T_68479_row11_col2, #T_68479_row11_col8, #T_68479_row11_col10, #T_68479_row13_col7, #T_68479_row15_col1, #T_68479_row16_col0, #T_68479_row16_col8 {\n",
       "  background-color: #3e51c5;\n",
       "  color: #f1f1f1;\n",
       "}\n",
       "#T_68479_row2_col14, #T_68479_row9_col14, #T_68479_row15_col6, #T_68479_row15_col14 {\n",
       "  background-color: #6180e9;\n",
       "  color: #f1f1f1;\n",
       "}\n",
       "#T_68479_row2_col15, #T_68479_row6_col15, #T_68479_row8_col1, #T_68479_row13_col11, #T_68479_row15_col3, #T_68479_row16_col1 {\n",
       "  background-color: #4c66d6;\n",
       "  color: #f1f1f1;\n",
       "}\n",
       "#T_68479_row3_col0 {\n",
       "  background-color: #e1dad6;\n",
       "  color: #000000;\n",
       "}\n",
       "#T_68479_row3_col5, #T_68479_row5_col3 {\n",
       "  background-color: #c53334;\n",
       "  color: #f1f1f1;\n",
       "}\n",
       "#T_68479_row3_col6, #T_68479_row13_col0 {\n",
       "  background-color: #86a9fc;\n",
       "  color: #f1f1f1;\n",
       "}\n",
       "#T_68479_row3_col8, #T_68479_row4_col2, #T_68479_row4_col9, #T_68479_row6_col1, #T_68479_row7_col9, #T_68479_row10_col9, #T_68479_row11_col5, #T_68479_row11_col9, #T_68479_row12_col2, #T_68479_row13_col2, #T_68479_row14_col6 {\n",
       "  background-color: #3c4ec2;\n",
       "  color: #f1f1f1;\n",
       "}\n",
       "#T_68479_row3_col10, #T_68479_row10_col3, #T_68479_row12_col14 {\n",
       "  background-color: #ef886b;\n",
       "  color: #f1f1f1;\n",
       "}\n",
       "#T_68479_row3_col12 {\n",
       "  background-color: #efcebd;\n",
       "  color: #000000;\n",
       "}\n",
       "#T_68479_row3_col13, #T_68479_row13_col3 {\n",
       "  background-color: #b9d0f9;\n",
       "  color: #000000;\n",
       "}\n",
       "#T_68479_row3_col14 {\n",
       "  background-color: #cbd8ee;\n",
       "  color: #000000;\n",
       "}\n",
       "#T_68479_row4_col12 {\n",
       "  background-color: #5a78e4;\n",
       "  color: #f1f1f1;\n",
       "}\n",
       "#T_68479_row5_col0 {\n",
       "  background-color: #dedcdb;\n",
       "  color: #000000;\n",
       "}\n",
       "#T_68479_row5_col6 {\n",
       "  background-color: #89acfd;\n",
       "  color: #000000;\n",
       "}\n",
       "#T_68479_row5_col10, #T_68479_row8_col7 {\n",
       "  background-color: #f08b6e;\n",
       "  color: #f1f1f1;\n",
       "}\n",
       "#T_68479_row5_col12 {\n",
       "  background-color: #ecd3c5;\n",
       "  color: #000000;\n",
       "}\n",
       "#T_68479_row5_col13 {\n",
       "  background-color: #b6cefa;\n",
       "  color: #000000;\n",
       "}\n",
       "#T_68479_row5_col14 {\n",
       "  background-color: #c3d5f4;\n",
       "  color: #000000;\n",
       "}\n",
       "#T_68479_row6_col0 {\n",
       "  background-color: #a3c2fe;\n",
       "  color: #000000;\n",
       "}\n",
       "#T_68479_row6_col3 {\n",
       "  background-color: #7093f3;\n",
       "  color: #f1f1f1;\n",
       "}\n",
       "#T_68479_row6_col5 {\n",
       "  background-color: #7295f4;\n",
       "  color: #f1f1f1;\n",
       "}\n",
       "#T_68479_row6_col10 {\n",
       "  background-color: #94b6ff;\n",
       "  color: #000000;\n",
       "}\n",
       "#T_68479_row7_col6, #T_68479_row11_col14, #T_68479_row16_col6, #T_68479_row16_col12 {\n",
       "  background-color: #5875e1;\n",
       "  color: #f1f1f1;\n",
       "}\n",
       "#T_68479_row7_col8, #T_68479_row10_col5 {\n",
       "  background-color: #f18d6f;\n",
       "  color: #f1f1f1;\n",
       "}\n",
       "#T_68479_row8_col6, #T_68479_row15_col11 {\n",
       "  background-color: #5673e0;\n",
       "  color: #f1f1f1;\n",
       "}\n",
       "#T_68479_row8_col12, #T_68479_row11_col12 {\n",
       "  background-color: #5b7ae5;\n",
       "  color: #f1f1f1;\n",
       "}\n",
       "#T_68479_row9_col4, #T_68479_row9_col16, #T_68479_row12_col11 {\n",
       "  background-color: #4e68d8;\n",
       "  color: #f1f1f1;\n",
       "}\n",
       "#T_68479_row9_col6, #T_68479_row15_col12 {\n",
       "  background-color: #6384eb;\n",
       "  color: #f1f1f1;\n",
       "}\n",
       "#T_68479_row10_col0 {\n",
       "  background-color: #f7b194;\n",
       "  color: #000000;\n",
       "}\n",
       "#T_68479_row10_col6 {\n",
       "  background-color: #a5c3fe;\n",
       "  color: #000000;\n",
       "}\n",
       "#T_68479_row10_col12 {\n",
       "  background-color: #f7b89c;\n",
       "  color: #000000;\n",
       "}\n",
       "#T_68479_row10_col13 {\n",
       "  background-color: #c9d7f0;\n",
       "  color: #000000;\n",
       "}\n",
       "#T_68479_row10_col14 {\n",
       "  background-color: #e0dbd8;\n",
       "  color: #000000;\n",
       "}\n",
       "#T_68479_row12_col0 {\n",
       "  background-color: #a7c5fe;\n",
       "  color: #000000;\n",
       "}\n",
       "#T_68479_row12_col3 {\n",
       "  background-color: #e9d5cb;\n",
       "  color: #000000;\n",
       "}\n",
       "#T_68479_row12_col10 {\n",
       "  background-color: #f6bea4;\n",
       "  color: #000000;\n",
       "}\n",
       "#T_68479_row12_col13 {\n",
       "  background-color: #f5c2aa;\n",
       "  color: #000000;\n",
       "}\n",
       "#T_68479_row13_col5, #T_68479_row14_col5 {\n",
       "  background-color: #b3cdfb;\n",
       "  color: #000000;\n",
       "}\n",
       "#T_68479_row13_col10 {\n",
       "  background-color: #cad8ef;\n",
       "  color: #000000;\n",
       "}\n",
       "#T_68479_row13_col12 {\n",
       "  background-color: #f7ba9f;\n",
       "  color: #000000;\n",
       "}\n",
       "#T_68479_row13_col14 {\n",
       "  background-color: #ebd3c6;\n",
       "  color: #000000;\n",
       "}\n",
       "#T_68479_row14_col0 {\n",
       "  background-color: #81a4fb;\n",
       "  color: #f1f1f1;\n",
       "}\n",
       "#T_68479_row14_col3 {\n",
       "  background-color: #bfd3f6;\n",
       "  color: #000000;\n",
       "}\n",
       "#T_68479_row14_col10 {\n",
       "  background-color: #d8dce2;\n",
       "  color: #000000;\n",
       "}\n",
       "#T_68479_row14_col12 {\n",
       "  background-color: #ee8669;\n",
       "  color: #f1f1f1;\n",
       "}\n",
       "#T_68479_row14_col13 {\n",
       "  background-color: #e4d9d2;\n",
       "  color: #000000;\n",
       "}\n",
       "</style>\n",
       "<table id=\"T_68479_\">\n",
       "  <thead>\n",
       "    <tr>\n",
       "      <th class=\"blank level0\" >&nbsp;</th>\n",
       "      <th class=\"col_heading level0 col0\" >Age</th>\n",
       "      <th class=\"col_heading level0 col1\" >DistanceFromHome</th>\n",
       "      <th class=\"col_heading level0 col2\" >JobInvolvement</th>\n",
       "      <th class=\"col_heading level0 col3\" >JobLevel</th>\n",
       "      <th class=\"col_heading level0 col4\" >JobSatisfaction</th>\n",
       "      <th class=\"col_heading level0 col5\" >MonthlyIncome</th>\n",
       "      <th class=\"col_heading level0 col6\" >NumCompaniesWorked</th>\n",
       "      <th class=\"col_heading level0 col7\" >PercentSalaryHike</th>\n",
       "      <th class=\"col_heading level0 col8\" >PerformanceRating</th>\n",
       "      <th class=\"col_heading level0 col9\" >StockOptionLevel</th>\n",
       "      <th class=\"col_heading level0 col10\" >TotalWorkingYears</th>\n",
       "      <th class=\"col_heading level0 col11\" >TrainingTimesLastYear</th>\n",
       "      <th class=\"col_heading level0 col12\" >YearsAtCompany</th>\n",
       "      <th class=\"col_heading level0 col13\" >YearsSinceLastPromotion</th>\n",
       "      <th class=\"col_heading level0 col14\" >YearsWithCurrManager</th>\n",
       "      <th class=\"col_heading level0 col15\" >Leaves</th>\n",
       "      <th class=\"col_heading level0 col16\" >Absenteeism</th>\n",
       "    </tr>\n",
       "  </thead>\n",
       "  <tbody>\n",
       "    <tr>\n",
       "      <th id=\"T_68479_level0_row0\" class=\"row_heading level0 row0\" >Age</th>\n",
       "      <td id=\"T_68479_row0_col0\" class=\"data row0 col0\" >1.000000</td>\n",
       "      <td id=\"T_68479_row0_col1\" class=\"data row0 col1\" >-0.001686</td>\n",
       "      <td id=\"T_68479_row0_col2\" class=\"data row0 col2\" >0.029820</td>\n",
       "      <td id=\"T_68479_row0_col3\" class=\"data row0 col3\" >0.509604</td>\n",
       "      <td id=\"T_68479_row0_col4\" class=\"data row0 col4\" >-0.004892</td>\n",
       "      <td id=\"T_68479_row0_col5\" class=\"data row0 col5\" >0.497855</td>\n",
       "      <td id=\"T_68479_row0_col6\" class=\"data row0 col6\" >0.299635</td>\n",
       "      <td id=\"T_68479_row0_col7\" class=\"data row0 col7\" >0.003634</td>\n",
       "      <td id=\"T_68479_row0_col8\" class=\"data row0 col8\" >0.001904</td>\n",
       "      <td id=\"T_68479_row0_col9\" class=\"data row0 col9\" >0.037510</td>\n",
       "      <td id=\"T_68479_row0_col10\" class=\"data row0 col10\" >0.680381</td>\n",
       "      <td id=\"T_68479_row0_col11\" class=\"data row0 col11\" >-0.019621</td>\n",
       "      <td id=\"T_68479_row0_col12\" class=\"data row0 col12\" >0.311309</td>\n",
       "      <td id=\"T_68479_row0_col13\" class=\"data row0 col13\" >0.216513</td>\n",
       "      <td id=\"T_68479_row0_col14\" class=\"data row0 col14\" >0.202089</td>\n",
       "      <td id=\"T_68479_row0_col15\" class=\"data row0 col15\" >0.033811</td>\n",
       "      <td id=\"T_68479_row0_col16\" class=\"data row0 col16\" >-0.004628</td>\n",
       "    </tr>\n",
       "    <tr>\n",
       "      <th id=\"T_68479_level0_row1\" class=\"row_heading level0 row1\" >DistanceFromHome</th>\n",
       "      <td id=\"T_68479_row1_col0\" class=\"data row1 col0\" >-0.001686</td>\n",
       "      <td id=\"T_68479_row1_col1\" class=\"data row1 col1\" >1.000000</td>\n",
       "      <td id=\"T_68479_row1_col2\" class=\"data row1 col2\" >0.008783</td>\n",
       "      <td id=\"T_68479_row1_col3\" class=\"data row1 col3\" >0.005303</td>\n",
       "      <td id=\"T_68479_row1_col4\" class=\"data row1 col4\" >-0.003669</td>\n",
       "      <td id=\"T_68479_row1_col5\" class=\"data row1 col5\" >-0.017014</td>\n",
       "      <td id=\"T_68479_row1_col6\" class=\"data row1 col6\" >-0.029251</td>\n",
       "      <td id=\"T_68479_row1_col7\" class=\"data row1 col7\" >0.040235</td>\n",
       "      <td id=\"T_68479_row1_col8\" class=\"data row1 col8\" >0.027110</td>\n",
       "      <td id=\"T_68479_row1_col9\" class=\"data row1 col9\" >0.044872</td>\n",
       "      <td id=\"T_68479_row1_col10\" class=\"data row1 col10\" >0.004628</td>\n",
       "      <td id=\"T_68479_row1_col11\" class=\"data row1 col11\" >-0.036942</td>\n",
       "      <td id=\"T_68479_row1_col12\" class=\"data row1 col12\" >0.009508</td>\n",
       "      <td id=\"T_68479_row1_col13\" class=\"data row1 col13\" >0.010029</td>\n",
       "      <td id=\"T_68479_row1_col14\" class=\"data row1 col14\" >0.014406</td>\n",
       "      <td id=\"T_68479_row1_col15\" class=\"data row1 col15\" >-0.022749</td>\n",
       "      <td id=\"T_68479_row1_col16\" class=\"data row1 col16\" >0.024581</td>\n",
       "    </tr>\n",
       "    <tr>\n",
       "      <th id=\"T_68479_level0_row2\" class=\"row_heading level0 row2\" >JobInvolvement</th>\n",
       "      <td id=\"T_68479_row2_col0\" class=\"data row2 col0\" >0.029820</td>\n",
       "      <td id=\"T_68479_row2_col1\" class=\"data row2 col1\" >0.008783</td>\n",
       "      <td id=\"T_68479_row2_col2\" class=\"data row2 col2\" >1.000000</td>\n",
       "      <td id=\"T_68479_row2_col3\" class=\"data row2 col3\" >-0.012630</td>\n",
       "      <td id=\"T_68479_row2_col4\" class=\"data row2 col4\" >-0.021476</td>\n",
       "      <td id=\"T_68479_row2_col5\" class=\"data row2 col5\" >-0.015271</td>\n",
       "      <td id=\"T_68479_row2_col6\" class=\"data row2 col6\" >0.015012</td>\n",
       "      <td id=\"T_68479_row2_col7\" class=\"data row2 col7\" >-0.017205</td>\n",
       "      <td id=\"T_68479_row2_col8\" class=\"data row2 col8\" >-0.029071</td>\n",
       "      <td id=\"T_68479_row2_col9\" class=\"data row2 col9\" >0.021523</td>\n",
       "      <td id=\"T_68479_row2_col10\" class=\"data row2 col10\" >-0.005533</td>\n",
       "      <td id=\"T_68479_row2_col11\" class=\"data row2 col11\" >-0.015338</td>\n",
       "      <td id=\"T_68479_row2_col12\" class=\"data row2 col12\" >-0.021355</td>\n",
       "      <td id=\"T_68479_row2_col13\" class=\"data row2 col13\" >-0.024184</td>\n",
       "      <td id=\"T_68479_row2_col14\" class=\"data row2 col14\" >0.025976</td>\n",
       "      <td id=\"T_68479_row2_col15\" class=\"data row2 col15\" >0.016599</td>\n",
       "      <td id=\"T_68479_row2_col16\" class=\"data row2 col16\" >-0.000442</td>\n",
       "    </tr>\n",
       "    <tr>\n",
       "      <th id=\"T_68479_level0_row3\" class=\"row_heading level0 row3\" >JobLevel</th>\n",
       "      <td id=\"T_68479_row3_col0\" class=\"data row3 col0\" >0.509604</td>\n",
       "      <td id=\"T_68479_row3_col1\" class=\"data row3 col1\" >0.005303</td>\n",
       "      <td id=\"T_68479_row3_col2\" class=\"data row3 col2\" >-0.012630</td>\n",
       "      <td id=\"T_68479_row3_col3\" class=\"data row3 col3\" >1.000000</td>\n",
       "      <td id=\"T_68479_row3_col4\" class=\"data row3 col4\" >-0.001944</td>\n",
       "      <td id=\"T_68479_row3_col5\" class=\"data row3 col5\" >0.950300</td>\n",
       "      <td id=\"T_68479_row3_col6\" class=\"data row3 col6\" >0.142501</td>\n",
       "      <td id=\"T_68479_row3_col7\" class=\"data row3 col7\" >-0.034730</td>\n",
       "      <td id=\"T_68479_row3_col8\" class=\"data row3 col8\" >-0.021222</td>\n",
       "      <td id=\"T_68479_row3_col9\" class=\"data row3 col9\" >0.013984</td>\n",
       "      <td id=\"T_68479_row3_col10\" class=\"data row3 col10\" >0.782208</td>\n",
       "      <td id=\"T_68479_row3_col11\" class=\"data row3 col11\" >-0.018191</td>\n",
       "      <td id=\"T_68479_row3_col12\" class=\"data row3 col12\" >0.534739</td>\n",
       "      <td id=\"T_68479_row3_col13\" class=\"data row3 col13\" >0.353885</td>\n",
       "      <td id=\"T_68479_row3_col14\" class=\"data row3 col14\" >0.375281</td>\n",
       "      <td id=\"T_68479_row3_col15\" class=\"data row3 col15\" >0.028144</td>\n",
       "      <td id=\"T_68479_row3_col16\" class=\"data row3 col16\" >-0.013089</td>\n",
       "    </tr>\n",
       "    <tr>\n",
       "      <th id=\"T_68479_level0_row4\" class=\"row_heading level0 row4\" >JobSatisfaction</th>\n",
       "      <td id=\"T_68479_row4_col0\" class=\"data row4 col0\" >-0.004892</td>\n",
       "      <td id=\"T_68479_row4_col1\" class=\"data row4 col1\" >-0.003669</td>\n",
       "      <td id=\"T_68479_row4_col2\" class=\"data row4 col2\" >-0.021476</td>\n",
       "      <td id=\"T_68479_row4_col3\" class=\"data row4 col3\" >-0.001944</td>\n",
       "      <td id=\"T_68479_row4_col4\" class=\"data row4 col4\" >1.000000</td>\n",
       "      <td id=\"T_68479_row4_col5\" class=\"data row4 col5\" >-0.007157</td>\n",
       "      <td id=\"T_68479_row4_col6\" class=\"data row4 col6\" >-0.055699</td>\n",
       "      <td id=\"T_68479_row4_col7\" class=\"data row4 col7\" >0.020002</td>\n",
       "      <td id=\"T_68479_row4_col8\" class=\"data row4 col8\" >0.002297</td>\n",
       "      <td id=\"T_68479_row4_col9\" class=\"data row4 col9\" >0.010690</td>\n",
       "      <td id=\"T_68479_row4_col10\" class=\"data row4 col10\" >-0.020185</td>\n",
       "      <td id=\"T_68479_row4_col11\" class=\"data row4 col11\" >-0.005779</td>\n",
       "      <td id=\"T_68479_row4_col12\" class=\"data row4 col12\" >-0.003803</td>\n",
       "      <td id=\"T_68479_row4_col13\" class=\"data row4 col13\" >-0.018214</td>\n",
       "      <td id=\"T_68479_row4_col14\" class=\"data row4 col14\" >-0.027656</td>\n",
       "      <td id=\"T_68479_row4_col15\" class=\"data row4 col15\" >-0.044989</td>\n",
       "      <td id=\"T_68479_row4_col16\" class=\"data row4 col16\" >-0.027244</td>\n",
       "    </tr>\n",
       "    <tr>\n",
       "      <th id=\"T_68479_level0_row5\" class=\"row_heading level0 row5\" >MonthlyIncome</th>\n",
       "      <td id=\"T_68479_row5_col0\" class=\"data row5 col0\" >0.497855</td>\n",
       "      <td id=\"T_68479_row5_col1\" class=\"data row5 col1\" >-0.017014</td>\n",
       "      <td id=\"T_68479_row5_col2\" class=\"data row5 col2\" >-0.015271</td>\n",
       "      <td id=\"T_68479_row5_col3\" class=\"data row5 col3\" >0.950300</td>\n",
       "      <td id=\"T_68479_row5_col4\" class=\"data row5 col4\" >-0.007157</td>\n",
       "      <td id=\"T_68479_row5_col5\" class=\"data row5 col5\" >1.000000</td>\n",
       "      <td id=\"T_68479_row5_col6\" class=\"data row5 col6\" >0.149515</td>\n",
       "      <td id=\"T_68479_row5_col7\" class=\"data row5 col7\" >-0.027269</td>\n",
       "      <td id=\"T_68479_row5_col8\" class=\"data row5 col8\" >-0.017120</td>\n",
       "      <td id=\"T_68479_row5_col9\" class=\"data row5 col9\" >0.005408</td>\n",
       "      <td id=\"T_68479_row5_col10\" class=\"data row5 col10\" >0.772893</td>\n",
       "      <td id=\"T_68479_row5_col11\" class=\"data row5 col11\" >-0.021736</td>\n",
       "      <td id=\"T_68479_row5_col12\" class=\"data row5 col12\" >0.514285</td>\n",
       "      <td id=\"T_68479_row5_col13\" class=\"data row5 col13\" >0.344978</td>\n",
       "      <td id=\"T_68479_row5_col14\" class=\"data row5 col14\" >0.344079</td>\n",
       "      <td id=\"T_68479_row5_col15\" class=\"data row5 col15\" >0.002569</td>\n",
       "      <td id=\"T_68479_row5_col16\" class=\"data row5 col16\" >-0.018816</td>\n",
       "    </tr>\n",
       "    <tr>\n",
       "      <th id=\"T_68479_level0_row6\" class=\"row_heading level0 row6\" >NumCompaniesWorked</th>\n",
       "      <td id=\"T_68479_row6_col0\" class=\"data row6 col0\" >0.299635</td>\n",
       "      <td id=\"T_68479_row6_col1\" class=\"data row6 col1\" >-0.029251</td>\n",
       "      <td id=\"T_68479_row6_col2\" class=\"data row6 col2\" >0.015012</td>\n",
       "      <td id=\"T_68479_row6_col3\" class=\"data row6 col3\" >0.142501</td>\n",
       "      <td id=\"T_68479_row6_col4\" class=\"data row6 col4\" >-0.055699</td>\n",
       "      <td id=\"T_68479_row6_col5\" class=\"data row6 col5\" >0.149515</td>\n",
       "      <td id=\"T_68479_row6_col6\" class=\"data row6 col6\" >1.000000</td>\n",
       "      <td id=\"T_68479_row6_col7\" class=\"data row6 col7\" >-0.010238</td>\n",
       "      <td id=\"T_68479_row6_col8\" class=\"data row6 col8\" >-0.014095</td>\n",
       "      <td id=\"T_68479_row6_col9\" class=\"data row6 col9\" >0.030075</td>\n",
       "      <td id=\"T_68479_row6_col10\" class=\"data row6 col10\" >0.237639</td>\n",
       "      <td id=\"T_68479_row6_col11\" class=\"data row6 col11\" >-0.066054</td>\n",
       "      <td id=\"T_68479_row6_col12\" class=\"data row6 col12\" >-0.118421</td>\n",
       "      <td id=\"T_68479_row6_col13\" class=\"data row6 col13\" >-0.036814</td>\n",
       "      <td id=\"T_68479_row6_col14\" class=\"data row6 col14\" >-0.110319</td>\n",
       "      <td id=\"T_68479_row6_col15\" class=\"data row6 col15\" >0.019291</td>\n",
       "      <td id=\"T_68479_row6_col16\" class=\"data row6 col16\" >-0.010462</td>\n",
       "    </tr>\n",
       "    <tr>\n",
       "      <th id=\"T_68479_level0_row7\" class=\"row_heading level0 row7\" >PercentSalaryHike</th>\n",
       "      <td id=\"T_68479_row7_col0\" class=\"data row7 col0\" >0.003634</td>\n",
       "      <td id=\"T_68479_row7_col1\" class=\"data row7 col1\" >0.040235</td>\n",
       "      <td id=\"T_68479_row7_col2\" class=\"data row7 col2\" >-0.017205</td>\n",
       "      <td id=\"T_68479_row7_col3\" class=\"data row7 col3\" >-0.034730</td>\n",
       "      <td id=\"T_68479_row7_col4\" class=\"data row7 col4\" >0.020002</td>\n",
       "      <td id=\"T_68479_row7_col5\" class=\"data row7 col5\" >-0.027269</td>\n",
       "      <td id=\"T_68479_row7_col6\" class=\"data row7 col6\" >-0.010238</td>\n",
       "      <td id=\"T_68479_row7_col7\" class=\"data row7 col7\" >1.000000</td>\n",
       "      <td id=\"T_68479_row7_col8\" class=\"data row7 col8\" >0.773550</td>\n",
       "      <td id=\"T_68479_row7_col9\" class=\"data row7 col9\" >0.007528</td>\n",
       "      <td id=\"T_68479_row7_col10\" class=\"data row7 col10\" >-0.020608</td>\n",
       "      <td id=\"T_68479_row7_col11\" class=\"data row7 col11\" >-0.005221</td>\n",
       "      <td id=\"T_68479_row7_col12\" class=\"data row7 col12\" >-0.035991</td>\n",
       "      <td id=\"T_68479_row7_col13\" class=\"data row7 col13\" >-0.022154</td>\n",
       "      <td id=\"T_68479_row7_col14\" class=\"data row7 col14\" >-0.011985</td>\n",
       "      <td id=\"T_68479_row7_col15\" class=\"data row7 col15\" >-0.005762</td>\n",
       "      <td id=\"T_68479_row7_col16\" class=\"data row7 col16\" >-0.005041</td>\n",
       "    </tr>\n",
       "    <tr>\n",
       "      <th id=\"T_68479_level0_row8\" class=\"row_heading level0 row8\" >PerformanceRating</th>\n",
       "      <td id=\"T_68479_row8_col0\" class=\"data row8 col0\" >0.001904</td>\n",
       "      <td id=\"T_68479_row8_col1\" class=\"data row8 col1\" >0.027110</td>\n",
       "      <td id=\"T_68479_row8_col2\" class=\"data row8 col2\" >-0.029071</td>\n",
       "      <td id=\"T_68479_row8_col3\" class=\"data row8 col3\" >-0.021222</td>\n",
       "      <td id=\"T_68479_row8_col4\" class=\"data row8 col4\" >0.002297</td>\n",
       "      <td id=\"T_68479_row8_col5\" class=\"data row8 col5\" >-0.017120</td>\n",
       "      <td id=\"T_68479_row8_col6\" class=\"data row8 col6\" >-0.014095</td>\n",
       "      <td id=\"T_68479_row8_col7\" class=\"data row8 col7\" >0.773550</td>\n",
       "      <td id=\"T_68479_row8_col8\" class=\"data row8 col8\" >1.000000</td>\n",
       "      <td id=\"T_68479_row8_col9\" class=\"data row8 col9\" >0.003506</td>\n",
       "      <td id=\"T_68479_row8_col10\" class=\"data row8 col10\" >0.006744</td>\n",
       "      <td id=\"T_68479_row8_col11\" class=\"data row8 col11\" >-0.015579</td>\n",
       "      <td id=\"T_68479_row8_col12\" class=\"data row8 col12\" >0.003435</td>\n",
       "      <td id=\"T_68479_row8_col13\" class=\"data row8 col13\" >0.017896</td>\n",
       "      <td id=\"T_68479_row8_col14\" class=\"data row8 col14\" >0.022827</td>\n",
       "      <td id=\"T_68479_row8_col15\" class=\"data row8 col15\" >-0.006077</td>\n",
       "      <td id=\"T_68479_row8_col16\" class=\"data row8 col16\" >-0.014931</td>\n",
       "    </tr>\n",
       "    <tr>\n",
       "      <th id=\"T_68479_level0_row9\" class=\"row_heading level0 row9\" >StockOptionLevel</th>\n",
       "      <td id=\"T_68479_row9_col0\" class=\"data row9 col0\" >0.037510</td>\n",
       "      <td id=\"T_68479_row9_col1\" class=\"data row9 col1\" >0.044872</td>\n",
       "      <td id=\"T_68479_row9_col2\" class=\"data row9 col2\" >0.021523</td>\n",
       "      <td id=\"T_68479_row9_col3\" class=\"data row9 col3\" >0.013984</td>\n",
       "      <td id=\"T_68479_row9_col4\" class=\"data row9 col4\" >0.010690</td>\n",
       "      <td id=\"T_68479_row9_col5\" class=\"data row9 col5\" >0.005408</td>\n",
       "      <td id=\"T_68479_row9_col6\" class=\"data row9 col6\" >0.030075</td>\n",
       "      <td id=\"T_68479_row9_col7\" class=\"data row9 col7\" >0.007528</td>\n",
       "      <td id=\"T_68479_row9_col8\" class=\"data row9 col8\" >0.003506</td>\n",
       "      <td id=\"T_68479_row9_col9\" class=\"data row9 col9\" >1.000000</td>\n",
       "      <td id=\"T_68479_row9_col10\" class=\"data row9 col10\" >0.010136</td>\n",
       "      <td id=\"T_68479_row9_col11\" class=\"data row9 col11\" >0.011274</td>\n",
       "      <td id=\"T_68479_row9_col12\" class=\"data row9 col12\" >0.015058</td>\n",
       "      <td id=\"T_68479_row9_col13\" class=\"data row9 col13\" >0.014352</td>\n",
       "      <td id=\"T_68479_row9_col14\" class=\"data row9 col14\" >0.024698</td>\n",
       "      <td id=\"T_68479_row9_col15\" class=\"data row9 col15\" >0.014579</td>\n",
       "      <td id=\"T_68479_row9_col16\" class=\"data row9 col16\" >0.020468</td>\n",
       "    </tr>\n",
       "    <tr>\n",
       "      <th id=\"T_68479_level0_row10\" class=\"row_heading level0 row10\" >TotalWorkingYears</th>\n",
       "      <td id=\"T_68479_row10_col0\" class=\"data row10 col0\" >0.680381</td>\n",
       "      <td id=\"T_68479_row10_col1\" class=\"data row10 col1\" >0.004628</td>\n",
       "      <td id=\"T_68479_row10_col2\" class=\"data row10 col2\" >-0.005533</td>\n",
       "      <td id=\"T_68479_row10_col3\" class=\"data row10 col3\" >0.782208</td>\n",
       "      <td id=\"T_68479_row10_col4\" class=\"data row10 col4\" >-0.020185</td>\n",
       "      <td id=\"T_68479_row10_col5\" class=\"data row10 col5\" >0.772893</td>\n",
       "      <td id=\"T_68479_row10_col6\" class=\"data row10 col6\" >0.237639</td>\n",
       "      <td id=\"T_68479_row10_col7\" class=\"data row10 col7\" >-0.020608</td>\n",
       "      <td id=\"T_68479_row10_col8\" class=\"data row10 col8\" >0.006744</td>\n",
       "      <td id=\"T_68479_row10_col9\" class=\"data row10 col9\" >0.010136</td>\n",
       "      <td id=\"T_68479_row10_col10\" class=\"data row10 col10\" >1.000000</td>\n",
       "      <td id=\"T_68479_row10_col11\" class=\"data row10 col11\" >-0.035662</td>\n",
       "      <td id=\"T_68479_row10_col12\" class=\"data row10 col12\" >0.628133</td>\n",
       "      <td id=\"T_68479_row10_col13\" class=\"data row10 col13\" >0.404858</td>\n",
       "      <td id=\"T_68479_row10_col14\" class=\"data row10 col14\" >0.459188</td>\n",
       "      <td id=\"T_68479_row10_col15\" class=\"data row10 col15\" >0.031722</td>\n",
       "      <td id=\"T_68479_row10_col16\" class=\"data row10 col16\" >-0.048360</td>\n",
       "    </tr>\n",
       "    <tr>\n",
       "      <th id=\"T_68479_level0_row11\" class=\"row_heading level0 row11\" >TrainingTimesLastYear</th>\n",
       "      <td id=\"T_68479_row11_col0\" class=\"data row11 col0\" >-0.019621</td>\n",
       "      <td id=\"T_68479_row11_col1\" class=\"data row11 col1\" >-0.036942</td>\n",
       "      <td id=\"T_68479_row11_col2\" class=\"data row11 col2\" >-0.015338</td>\n",
       "      <td id=\"T_68479_row11_col3\" class=\"data row11 col3\" >-0.018191</td>\n",
       "      <td id=\"T_68479_row11_col4\" class=\"data row11 col4\" >-0.005779</td>\n",
       "      <td id=\"T_68479_row11_col5\" class=\"data row11 col5\" >-0.021736</td>\n",
       "      <td id=\"T_68479_row11_col6\" class=\"data row11 col6\" >-0.066054</td>\n",
       "      <td id=\"T_68479_row11_col7\" class=\"data row11 col7\" >-0.005221</td>\n",
       "      <td id=\"T_68479_row11_col8\" class=\"data row11 col8\" >-0.015579</td>\n",
       "      <td id=\"T_68479_row11_col9\" class=\"data row11 col9\" >0.011274</td>\n",
       "      <td id=\"T_68479_row11_col10\" class=\"data row11 col10\" >-0.035662</td>\n",
       "      <td id=\"T_68479_row11_col11\" class=\"data row11 col11\" >1.000000</td>\n",
       "      <td id=\"T_68479_row11_col12\" class=\"data row11 col12\" >0.003569</td>\n",
       "      <td id=\"T_68479_row11_col13\" class=\"data row11 col13\" >-0.002067</td>\n",
       "      <td id=\"T_68479_row11_col14\" class=\"data row11 col14\" >-0.004096</td>\n",
       "      <td id=\"T_68479_row11_col15\" class=\"data row11 col15\" >0.030695</td>\n",
       "      <td id=\"T_68479_row11_col16\" class=\"data row11 col16\" >-0.005326</td>\n",
       "    </tr>\n",
       "    <tr>\n",
       "      <th id=\"T_68479_level0_row12\" class=\"row_heading level0 row12\" >YearsAtCompany</th>\n",
       "      <td id=\"T_68479_row12_col0\" class=\"data row12 col0\" >0.311309</td>\n",
       "      <td id=\"T_68479_row12_col1\" class=\"data row12 col1\" >0.009508</td>\n",
       "      <td id=\"T_68479_row12_col2\" class=\"data row12 col2\" >-0.021355</td>\n",
       "      <td id=\"T_68479_row12_col3\" class=\"data row12 col3\" >0.534739</td>\n",
       "      <td id=\"T_68479_row12_col4\" class=\"data row12 col4\" >-0.003803</td>\n",
       "      <td id=\"T_68479_row12_col5\" class=\"data row12 col5\" >0.514285</td>\n",
       "      <td id=\"T_68479_row12_col6\" class=\"data row12 col6\" >-0.118421</td>\n",
       "      <td id=\"T_68479_row12_col7\" class=\"data row12 col7\" >-0.035991</td>\n",
       "      <td id=\"T_68479_row12_col8\" class=\"data row12 col8\" >0.003435</td>\n",
       "      <td id=\"T_68479_row12_col9\" class=\"data row12 col9\" >0.015058</td>\n",
       "      <td id=\"T_68479_row12_col10\" class=\"data row12 col10\" >0.628133</td>\n",
       "      <td id=\"T_68479_row12_col11\" class=\"data row12 col11\" >0.003569</td>\n",
       "      <td id=\"T_68479_row12_col12\" class=\"data row12 col12\" >1.000000</td>\n",
       "      <td id=\"T_68479_row12_col13\" class=\"data row12 col13\" >0.618409</td>\n",
       "      <td id=\"T_68479_row12_col14\" class=\"data row12 col14\" >0.769212</td>\n",
       "      <td id=\"T_68479_row12_col15\" class=\"data row12 col15\" >0.029535</td>\n",
       "      <td id=\"T_68479_row12_col16\" class=\"data row12 col16\" >-0.012682</td>\n",
       "    </tr>\n",
       "    <tr>\n",
       "      <th id=\"T_68479_level0_row13\" class=\"row_heading level0 row13\" >YearsSinceLastPromotion</th>\n",
       "      <td id=\"T_68479_row13_col0\" class=\"data row13 col0\" >0.216513</td>\n",
       "      <td id=\"T_68479_row13_col1\" class=\"data row13 col1\" >0.010029</td>\n",
       "      <td id=\"T_68479_row13_col2\" class=\"data row13 col2\" >-0.024184</td>\n",
       "      <td id=\"T_68479_row13_col3\" class=\"data row13 col3\" >0.353885</td>\n",
       "      <td id=\"T_68479_row13_col4\" class=\"data row13 col4\" >-0.018214</td>\n",
       "      <td id=\"T_68479_row13_col5\" class=\"data row13 col5\" >0.344978</td>\n",
       "      <td id=\"T_68479_row13_col6\" class=\"data row13 col6\" >-0.036814</td>\n",
       "      <td id=\"T_68479_row13_col7\" class=\"data row13 col7\" >-0.022154</td>\n",
       "      <td id=\"T_68479_row13_col8\" class=\"data row13 col8\" >0.017896</td>\n",
       "      <td id=\"T_68479_row13_col9\" class=\"data row13 col9\" >0.014352</td>\n",
       "      <td id=\"T_68479_row13_col10\" class=\"data row13 col10\" >0.404858</td>\n",
       "      <td id=\"T_68479_row13_col11\" class=\"data row13 col11\" >-0.002067</td>\n",
       "      <td id=\"T_68479_row13_col12\" class=\"data row13 col12\" >0.618409</td>\n",
       "      <td id=\"T_68479_row13_col13\" class=\"data row13 col13\" >1.000000</td>\n",
       "      <td id=\"T_68479_row13_col14\" class=\"data row13 col14\" >0.510224</td>\n",
       "      <td id=\"T_68479_row13_col15\" class=\"data row13 col15\" >0.005174</td>\n",
       "      <td id=\"T_68479_row13_col16\" class=\"data row13 col16\" >0.005398</td>\n",
       "    </tr>\n",
       "    <tr>\n",
       "      <th id=\"T_68479_level0_row14\" class=\"row_heading level0 row14\" >YearsWithCurrManager</th>\n",
       "      <td id=\"T_68479_row14_col0\" class=\"data row14 col0\" >0.202089</td>\n",
       "      <td id=\"T_68479_row14_col1\" class=\"data row14 col1\" >0.014406</td>\n",
       "      <td id=\"T_68479_row14_col2\" class=\"data row14 col2\" >0.025976</td>\n",
       "      <td id=\"T_68479_row14_col3\" class=\"data row14 col3\" >0.375281</td>\n",
       "      <td id=\"T_68479_row14_col4\" class=\"data row14 col4\" >-0.027656</td>\n",
       "      <td id=\"T_68479_row14_col5\" class=\"data row14 col5\" >0.344079</td>\n",
       "      <td id=\"T_68479_row14_col6\" class=\"data row14 col6\" >-0.110319</td>\n",
       "      <td id=\"T_68479_row14_col7\" class=\"data row14 col7\" >-0.011985</td>\n",
       "      <td id=\"T_68479_row14_col8\" class=\"data row14 col8\" >0.022827</td>\n",
       "      <td id=\"T_68479_row14_col9\" class=\"data row14 col9\" >0.024698</td>\n",
       "      <td id=\"T_68479_row14_col10\" class=\"data row14 col10\" >0.459188</td>\n",
       "      <td id=\"T_68479_row14_col11\" class=\"data row14 col11\" >-0.004096</td>\n",
       "      <td id=\"T_68479_row14_col12\" class=\"data row14 col12\" >0.769212</td>\n",
       "      <td id=\"T_68479_row14_col13\" class=\"data row14 col13\" >0.510224</td>\n",
       "      <td id=\"T_68479_row14_col14\" class=\"data row14 col14\" >1.000000</td>\n",
       "      <td id=\"T_68479_row14_col15\" class=\"data row14 col15\" >0.028244</td>\n",
       "      <td id=\"T_68479_row14_col16\" class=\"data row14 col16\" >-0.024512</td>\n",
       "    </tr>\n",
       "    <tr>\n",
       "      <th id=\"T_68479_level0_row15\" class=\"row_heading level0 row15\" >Leaves</th>\n",
       "      <td id=\"T_68479_row15_col0\" class=\"data row15 col0\" >0.033811</td>\n",
       "      <td id=\"T_68479_row15_col1\" class=\"data row15 col1\" >-0.022749</td>\n",
       "      <td id=\"T_68479_row15_col2\" class=\"data row15 col2\" >0.016599</td>\n",
       "      <td id=\"T_68479_row15_col3\" class=\"data row15 col3\" >0.028144</td>\n",
       "      <td id=\"T_68479_row15_col4\" class=\"data row15 col4\" >-0.044989</td>\n",
       "      <td id=\"T_68479_row15_col5\" class=\"data row15 col5\" >0.002569</td>\n",
       "      <td id=\"T_68479_row15_col6\" class=\"data row15 col6\" >0.019291</td>\n",
       "      <td id=\"T_68479_row15_col7\" class=\"data row15 col7\" >-0.005762</td>\n",
       "      <td id=\"T_68479_row15_col8\" class=\"data row15 col8\" >-0.006077</td>\n",
       "      <td id=\"T_68479_row15_col9\" class=\"data row15 col9\" >0.014579</td>\n",
       "      <td id=\"T_68479_row15_col10\" class=\"data row15 col10\" >0.031722</td>\n",
       "      <td id=\"T_68479_row15_col11\" class=\"data row15 col11\" >0.030695</td>\n",
       "      <td id=\"T_68479_row15_col12\" class=\"data row15 col12\" >0.029535</td>\n",
       "      <td id=\"T_68479_row15_col13\" class=\"data row15 col13\" >0.005174</td>\n",
       "      <td id=\"T_68479_row15_col14\" class=\"data row15 col14\" >0.028244</td>\n",
       "      <td id=\"T_68479_row15_col15\" class=\"data row15 col15\" >1.000000</td>\n",
       "      <td id=\"T_68479_row15_col16\" class=\"data row15 col16\" >0.031418</td>\n",
       "    </tr>\n",
       "    <tr>\n",
       "      <th id=\"T_68479_level0_row16\" class=\"row_heading level0 row16\" >Absenteeism</th>\n",
       "      <td id=\"T_68479_row16_col0\" class=\"data row16 col0\" >-0.004628</td>\n",
       "      <td id=\"T_68479_row16_col1\" class=\"data row16 col1\" >0.024581</td>\n",
       "      <td id=\"T_68479_row16_col2\" class=\"data row16 col2\" >-0.000442</td>\n",
       "      <td id=\"T_68479_row16_col3\" class=\"data row16 col3\" >-0.013089</td>\n",
       "      <td id=\"T_68479_row16_col4\" class=\"data row16 col4\" >-0.027244</td>\n",
       "      <td id=\"T_68479_row16_col5\" class=\"data row16 col5\" >-0.018816</td>\n",
       "      <td id=\"T_68479_row16_col6\" class=\"data row16 col6\" >-0.010462</td>\n",
       "      <td id=\"T_68479_row16_col7\" class=\"data row16 col7\" >-0.005041</td>\n",
       "      <td id=\"T_68479_row16_col8\" class=\"data row16 col8\" >-0.014931</td>\n",
       "      <td id=\"T_68479_row16_col9\" class=\"data row16 col9\" >0.020468</td>\n",
       "      <td id=\"T_68479_row16_col10\" class=\"data row16 col10\" >-0.048360</td>\n",
       "      <td id=\"T_68479_row16_col11\" class=\"data row16 col11\" >-0.005326</td>\n",
       "      <td id=\"T_68479_row16_col12\" class=\"data row16 col12\" >-0.012682</td>\n",
       "      <td id=\"T_68479_row16_col13\" class=\"data row16 col13\" >0.005398</td>\n",
       "      <td id=\"T_68479_row16_col14\" class=\"data row16 col14\" >-0.024512</td>\n",
       "      <td id=\"T_68479_row16_col15\" class=\"data row16 col15\" >0.031418</td>\n",
       "      <td id=\"T_68479_row16_col16\" class=\"data row16 col16\" >1.000000</td>\n",
       "    </tr>\n",
       "  </tbody>\n",
       "</table>\n"
      ],
      "text/plain": [
       "<pandas.io.formats.style.Styler at 0x2663bf493c8>"
      ]
     },
     "execution_count": 18,
     "metadata": {},
     "output_type": "execute_result"
    }
   ],
   "source": [
    "corr.style.background_gradient(cmap ='coolwarm')"
   ]
  },
  {
   "cell_type": "markdown",
   "metadata": {},
   "source": [
    "# Data readiness before model building"
   ]
  },
  {
   "cell_type": "markdown",
   "metadata": {},
   "source": [
    "## Scaling numeric data"
   ]
  },
  {
   "cell_type": "code",
   "execution_count": 19,
   "metadata": {},
   "outputs": [],
   "source": [
    "df_att_sc = df_att.copy()"
   ]
  },
  {
   "cell_type": "code",
   "execution_count": 20,
   "metadata": {},
   "outputs": [],
   "source": [
    "from sklearn.preprocessing import StandardScaler, MinMaxScaler, OneHotEncoder, LabelEncoder\n",
    "import regex"
   ]
  },
  {
   "cell_type": "code",
   "execution_count": 21,
   "metadata": {},
   "outputs": [],
   "source": [
    "scaler = MinMaxScaler()"
   ]
  },
  {
   "cell_type": "code",
   "execution_count": 22,
   "metadata": {},
   "outputs": [],
   "source": [
    "df_att_sc[lst_int_col] = pd.DataFrame(scaler.fit_transform(df_att_sc[lst_int_col]))"
   ]
  },
  {
   "cell_type": "markdown",
   "metadata": {},
   "source": [
    "## Encoding categorical data"
   ]
  },
  {
   "cell_type": "code",
   "execution_count": 23,
   "metadata": {},
   "outputs": [
    {
     "data": {
      "text/plain": [
       "Travel_Rarely        1043\n",
       "Travel_Frequently     277\n",
       "Non-Travel            150\n",
       "Name: BusinessTravel, dtype: int64"
      ]
     },
     "execution_count": 23,
     "metadata": {},
     "output_type": "execute_result"
    }
   ],
   "source": [
    "df_att.BusinessTravel.value_counts()"
   ]
  },
  {
   "cell_type": "code",
   "execution_count": 24,
   "metadata": {},
   "outputs": [
    {
     "data": {
      "text/plain": [
       "(1, 11, 12)"
      ]
     },
     "execution_count": 24,
     "metadata": {},
     "output_type": "execute_result"
    }
   ],
   "source": [
    "lst_label_enc = ['BusinessTravel']\n",
    "lst_onehot_enc = [x for x in lst_obj_col if x not in lst_label_enc]\n",
    "len(lst_label_enc), len(lst_onehot_enc), len(lst_obj_col)"
   ]
  },
  {
   "cell_type": "code",
   "execution_count": 25,
   "metadata": {},
   "outputs": [
    {
     "data": {
      "text/plain": [
       "WFH       768\n",
       "OFFICE    702\n",
       "Name: Mode_of_work, dtype: int64"
      ]
     },
     "execution_count": 25,
     "metadata": {},
     "output_type": "execute_result"
    }
   ],
   "source": [
    "df_att.Mode_of_work.value_counts()"
   ]
  },
  {
   "cell_type": "markdown",
   "metadata": {},
   "source": [
    "## Label Encoding"
   ]
  },
  {
   "cell_type": "code",
   "execution_count": 26,
   "metadata": {},
   "outputs": [],
   "source": [
    "enc_label = LabelEncoder()\n",
    "for item in lst_label_enc:\n",
    "    df_att_sc[item] = enc_label.fit_transform(df_att_sc[item])"
   ]
  },
  {
   "cell_type": "markdown",
   "metadata": {},
   "source": [
    "## One hot encoding and Dummification"
   ]
  },
  {
   "cell_type": "code",
   "execution_count": 27,
   "metadata": {
    "scrolled": true
   },
   "outputs": [],
   "source": [
    "for item in lst_onehot_enc:\n",
    "    df_att_sc[item] = df_att_sc[item].replace('[^a-zA-Z]', '', regex=True)"
   ]
  },
  {
   "cell_type": "code",
   "execution_count": 28,
   "metadata": {
    "scrolled": true
   },
   "outputs": [],
   "source": [
    "df_att_sc = pd.get_dummies(df_att_sc, columns=lst_onehot_enc, drop_first=True)"
   ]
  },
  {
   "cell_type": "code",
   "execution_count": 29,
   "metadata": {},
   "outputs": [
    {
     "data": {
      "text/html": [
       "<div>\n",
       "<style scoped>\n",
       "    .dataframe tbody tr th:only-of-type {\n",
       "        vertical-align: middle;\n",
       "    }\n",
       "\n",
       "    .dataframe tbody tr th {\n",
       "        vertical-align: top;\n",
       "    }\n",
       "\n",
       "    .dataframe thead th {\n",
       "        text-align: right;\n",
       "    }\n",
       "</style>\n",
       "<table border=\"1\" class=\"dataframe\">\n",
       "  <thead>\n",
       "    <tr style=\"text-align: right;\">\n",
       "      <th></th>\n",
       "      <th>Age</th>\n",
       "      <th>Attrition</th>\n",
       "      <th>BusinessTravel</th>\n",
       "      <th>DistanceFromHome</th>\n",
       "      <th>JobInvolvement</th>\n",
       "      <th>JobLevel</th>\n",
       "      <th>JobSatisfaction</th>\n",
       "      <th>MonthlyIncome</th>\n",
       "      <th>NumCompaniesWorked</th>\n",
       "      <th>PercentSalaryHike</th>\n",
       "      <th>PerformanceRating</th>\n",
       "      <th>StockOptionLevel</th>\n",
       "      <th>TotalWorkingYears</th>\n",
       "      <th>TrainingTimesLastYear</th>\n",
       "      <th>YearsAtCompany</th>\n",
       "      <th>YearsSinceLastPromotion</th>\n",
       "      <th>YearsWithCurrManager</th>\n",
       "      <th>Leaves</th>\n",
       "      <th>Absenteeism</th>\n",
       "      <th>Department_ResearchDevelopment</th>\n",
       "      <th>Department_Sales</th>\n",
       "      <th>Gender_Male</th>\n",
       "      <th>JobRole_HumanResources</th>\n",
       "      <th>JobRole_LaboratoryTechnician</th>\n",
       "      <th>JobRole_Manager</th>\n",
       "      <th>JobRole_ManufacturingDirector</th>\n",
       "      <th>JobRole_ResearchDirector</th>\n",
       "      <th>JobRole_ResearchScientist</th>\n",
       "      <th>JobRole_SalesExecutive</th>\n",
       "      <th>JobRole_SalesRepresentative</th>\n",
       "      <th>MaritalStatus_Married</th>\n",
       "      <th>MaritalStatus_Single</th>\n",
       "      <th>OverTime_Yes</th>\n",
       "      <th>Higher_Education_PHD</th>\n",
       "      <th>Higher_Education_PostGraduation</th>\n",
       "      <th>Higher_Education_th</th>\n",
       "      <th>Status_of_leaving_DeptHead</th>\n",
       "      <th>Status_of_leaving_Salary</th>\n",
       "      <th>Status_of_leaving_WorkAccident</th>\n",
       "      <th>Status_of_leaving_WorkEnvironment</th>\n",
       "      <th>Mode_of_work_WFH</th>\n",
       "      <th>Work_accident_Yes</th>\n",
       "      <th>Source_of_Hire_JobPortal</th>\n",
       "      <th>Source_of_Hire_Recruiter</th>\n",
       "      <th>Source_of_Hire_Walkin</th>\n",
       "      <th>Job_mode_FullTime</th>\n",
       "      <th>Job_mode_PartTime</th>\n",
       "    </tr>\n",
       "  </thead>\n",
       "  <tbody>\n",
       "    <tr>\n",
       "      <th>0</th>\n",
       "      <td>0.452381</td>\n",
       "      <td>Yes</td>\n",
       "      <td>2</td>\n",
       "      <td>0.035714</td>\n",
       "      <td>0.333333</td>\n",
       "      <td>0.0</td>\n",
       "      <td>0.666667</td>\n",
       "      <td>0.056925</td>\n",
       "      <td>0.666667</td>\n",
       "      <td>0.285714</td>\n",
       "      <td>0.0</td>\n",
       "      <td>0.0</td>\n",
       "      <td>0.175</td>\n",
       "      <td>0.5</td>\n",
       "      <td>0.0</td>\n",
       "      <td>0.0</td>\n",
       "      <td>0.0</td>\n",
       "      <td>0.8</td>\n",
       "      <td>0.666667</td>\n",
       "      <td>1</td>\n",
       "      <td>0</td>\n",
       "      <td>1</td>\n",
       "      <td>0</td>\n",
       "      <td>1</td>\n",
       "      <td>0</td>\n",
       "      <td>0</td>\n",
       "      <td>0</td>\n",
       "      <td>0</td>\n",
       "      <td>0</td>\n",
       "      <td>0</td>\n",
       "      <td>0</td>\n",
       "      <td>1</td>\n",
       "      <td>1</td>\n",
       "      <td>0</td>\n",
       "      <td>0</td>\n",
       "      <td>0</td>\n",
       "      <td>0</td>\n",
       "      <td>1</td>\n",
       "      <td>0</td>\n",
       "      <td>0</td>\n",
       "      <td>0</td>\n",
       "      <td>0</td>\n",
       "      <td>0</td>\n",
       "      <td>0</td>\n",
       "      <td>0</td>\n",
       "      <td>0</td>\n",
       "      <td>0</td>\n",
       "    </tr>\n",
       "    <tr>\n",
       "      <th>1</th>\n",
       "      <td>0.071429</td>\n",
       "      <td>No</td>\n",
       "      <td>2</td>\n",
       "      <td>0.500000</td>\n",
       "      <td>0.666667</td>\n",
       "      <td>0.0</td>\n",
       "      <td>1.000000</td>\n",
       "      <td>0.011743</td>\n",
       "      <td>0.111111</td>\n",
       "      <td>0.214286</td>\n",
       "      <td>0.0</td>\n",
       "      <td>0.0</td>\n",
       "      <td>0.000</td>\n",
       "      <td>1.0</td>\n",
       "      <td>0.0</td>\n",
       "      <td>0.0</td>\n",
       "      <td>0.0</td>\n",
       "      <td>1.0</td>\n",
       "      <td>0.666667</td>\n",
       "      <td>1</td>\n",
       "      <td>0</td>\n",
       "      <td>1</td>\n",
       "      <td>0</td>\n",
       "      <td>0</td>\n",
       "      <td>0</td>\n",
       "      <td>0</td>\n",
       "      <td>0</td>\n",
       "      <td>1</td>\n",
       "      <td>0</td>\n",
       "      <td>0</td>\n",
       "      <td>0</td>\n",
       "      <td>1</td>\n",
       "      <td>0</td>\n",
       "      <td>0</td>\n",
       "      <td>0</td>\n",
       "      <td>0</td>\n",
       "      <td>0</td>\n",
       "      <td>0</td>\n",
       "      <td>1</td>\n",
       "      <td>0</td>\n",
       "      <td>1</td>\n",
       "      <td>0</td>\n",
       "      <td>0</td>\n",
       "      <td>1</td>\n",
       "      <td>0</td>\n",
       "      <td>0</td>\n",
       "      <td>1</td>\n",
       "    </tr>\n",
       "    <tr>\n",
       "      <th>2</th>\n",
       "      <td>0.642857</td>\n",
       "      <td>No</td>\n",
       "      <td>2</td>\n",
       "      <td>0.178571</td>\n",
       "      <td>0.666667</td>\n",
       "      <td>0.5</td>\n",
       "      <td>0.000000</td>\n",
       "      <td>0.644339</td>\n",
       "      <td>0.444444</td>\n",
       "      <td>0.214286</td>\n",
       "      <td>0.0</td>\n",
       "      <td>0.0</td>\n",
       "      <td>0.425</td>\n",
       "      <td>0.5</td>\n",
       "      <td>0.0</td>\n",
       "      <td>0.0</td>\n",
       "      <td>0.0</td>\n",
       "      <td>0.2</td>\n",
       "      <td>1.000000</td>\n",
       "      <td>1</td>\n",
       "      <td>0</td>\n",
       "      <td>1</td>\n",
       "      <td>0</td>\n",
       "      <td>0</td>\n",
       "      <td>0</td>\n",
       "      <td>0</td>\n",
       "      <td>1</td>\n",
       "      <td>0</td>\n",
       "      <td>0</td>\n",
       "      <td>0</td>\n",
       "      <td>1</td>\n",
       "      <td>0</td>\n",
       "      <td>1</td>\n",
       "      <td>0</td>\n",
       "      <td>1</td>\n",
       "      <td>0</td>\n",
       "      <td>1</td>\n",
       "      <td>0</td>\n",
       "      <td>0</td>\n",
       "      <td>0</td>\n",
       "      <td>1</td>\n",
       "      <td>0</td>\n",
       "      <td>0</td>\n",
       "      <td>0</td>\n",
       "      <td>0</td>\n",
       "      <td>0</td>\n",
       "      <td>0</td>\n",
       "    </tr>\n",
       "  </tbody>\n",
       "</table>\n",
       "</div>"
      ],
      "text/plain": [
       "        Age Attrition  BusinessTravel  DistanceFromHome  JobInvolvement  \\\n",
       "0  0.452381       Yes               2          0.035714        0.333333   \n",
       "1  0.071429        No               2          0.500000        0.666667   \n",
       "2  0.642857        No               2          0.178571        0.666667   \n",
       "\n",
       "   JobLevel  JobSatisfaction  MonthlyIncome  NumCompaniesWorked  \\\n",
       "0       0.0         0.666667       0.056925            0.666667   \n",
       "1       0.0         1.000000       0.011743            0.111111   \n",
       "2       0.5         0.000000       0.644339            0.444444   \n",
       "\n",
       "   PercentSalaryHike  PerformanceRating  StockOptionLevel  TotalWorkingYears  \\\n",
       "0           0.285714                0.0               0.0              0.175   \n",
       "1           0.214286                0.0               0.0              0.000   \n",
       "2           0.214286                0.0               0.0              0.425   \n",
       "\n",
       "   TrainingTimesLastYear  YearsAtCompany  YearsSinceLastPromotion  \\\n",
       "0                    0.5             0.0                      0.0   \n",
       "1                    1.0             0.0                      0.0   \n",
       "2                    0.5             0.0                      0.0   \n",
       "\n",
       "   YearsWithCurrManager  Leaves  Absenteeism  Department_ResearchDevelopment  \\\n",
       "0                   0.0     0.8     0.666667                               1   \n",
       "1                   0.0     1.0     0.666667                               1   \n",
       "2                   0.0     0.2     1.000000                               1   \n",
       "\n",
       "   Department_Sales  Gender_Male  JobRole_HumanResources  \\\n",
       "0                 0            1                       0   \n",
       "1                 0            1                       0   \n",
       "2                 0            1                       0   \n",
       "\n",
       "   JobRole_LaboratoryTechnician  JobRole_Manager  \\\n",
       "0                             1                0   \n",
       "1                             0                0   \n",
       "2                             0                0   \n",
       "\n",
       "   JobRole_ManufacturingDirector  JobRole_ResearchDirector  \\\n",
       "0                              0                         0   \n",
       "1                              0                         0   \n",
       "2                              0                         1   \n",
       "\n",
       "   JobRole_ResearchScientist  JobRole_SalesExecutive  \\\n",
       "0                          0                       0   \n",
       "1                          1                       0   \n",
       "2                          0                       0   \n",
       "\n",
       "   JobRole_SalesRepresentative  MaritalStatus_Married  MaritalStatus_Single  \\\n",
       "0                            0                      0                     1   \n",
       "1                            0                      0                     1   \n",
       "2                            0                      1                     0   \n",
       "\n",
       "   OverTime_Yes  Higher_Education_PHD  Higher_Education_PostGraduation  \\\n",
       "0             1                     0                                0   \n",
       "1             0                     0                                0   \n",
       "2             1                     0                                1   \n",
       "\n",
       "   Higher_Education_th  Status_of_leaving_DeptHead  Status_of_leaving_Salary  \\\n",
       "0                    0                           0                         1   \n",
       "1                    0                           0                         0   \n",
       "2                    0                           1                         0   \n",
       "\n",
       "   Status_of_leaving_WorkAccident  Status_of_leaving_WorkEnvironment  \\\n",
       "0                               0                                  0   \n",
       "1                               1                                  0   \n",
       "2                               0                                  0   \n",
       "\n",
       "   Mode_of_work_WFH  Work_accident_Yes  Source_of_Hire_JobPortal  \\\n",
       "0                 0                  0                         0   \n",
       "1                 1                  0                         0   \n",
       "2                 1                  0                         0   \n",
       "\n",
       "   Source_of_Hire_Recruiter  Source_of_Hire_Walkin  Job_mode_FullTime  \\\n",
       "0                         0                      0                  0   \n",
       "1                         1                      0                  0   \n",
       "2                         0                      0                  0   \n",
       "\n",
       "   Job_mode_PartTime  \n",
       "0                  0  \n",
       "1                  1  \n",
       "2                  0  "
      ]
     },
     "execution_count": 29,
     "metadata": {},
     "output_type": "execute_result"
    }
   ],
   "source": [
    "df_att_sc.head(3)"
   ]
  },
  {
   "cell_type": "markdown",
   "metadata": {},
   "source": [
    "## Label encoding target variable"
   ]
  },
  {
   "cell_type": "code",
   "execution_count": 30,
   "metadata": {},
   "outputs": [],
   "source": [
    "df_att_sc.Attrition = enc_label.fit_transform(df_att_sc.Attrition)"
   ]
  },
  {
   "cell_type": "code",
   "execution_count": 31,
   "metadata": {},
   "outputs": [
    {
     "data": {
      "text/plain": [
       "0    1233\n",
       "1     237\n",
       "Name: Attrition, dtype: int64"
      ]
     },
     "execution_count": 31,
     "metadata": {},
     "output_type": "execute_result"
    }
   ],
   "source": [
    "df_att_sc.Attrition.value_counts()"
   ]
  },
  {
   "cell_type": "markdown",
   "metadata": {},
   "source": [
    "# Feature Selection"
   ]
  },
  {
   "cell_type": "code",
   "execution_count": 32,
   "metadata": {},
   "outputs": [],
   "source": [
    "x = df_att_sc.drop('Attrition',axis=1)\n",
    "y = df_att_sc['Attrition']"
   ]
  },
  {
   "cell_type": "code",
   "execution_count": 33,
   "metadata": {},
   "outputs": [],
   "source": [
    "from sklearn.ensemble import ExtraTreesClassifier\n",
    "\n",
    "extra_tree = ExtraTreesClassifier()\n",
    "\n",
    "extra_tree.fit(x,y)\n",
    "\n",
    "feat_importance = extra_tree.feature_importances_"
   ]
  },
  {
   "cell_type": "markdown",
   "metadata": {},
   "source": [
    "## Plotting a Feature Importance"
   ]
  },
  {
   "cell_type": "code",
   "execution_count": 34,
   "metadata": {},
   "outputs": [
    {
     "data": {
      "image/png": "[encoded data removed]",
      "text/plain": [
       "<Figure size 792x648 with 1 Axes>"
      ]
     },
     "metadata": {
      "needs_background": "light"
     },
     "output_type": "display_data"
    }
   ],
   "source": [
    "\n",
    "plt.figure(figsize=(11,9))\n",
    "feat_imp = pd.Series(extra_tree.feature_importances_, index=x.columns)\n",
    "\n",
    "feat_imp.nlargest(20).plot(kind='barh')\n",
    "plt.show()"
   ]
  },
  {
   "cell_type": "code",
   "execution_count": 35,
   "metadata": {},
   "outputs": [],
   "source": [
    "from sklearn.preprocessing import MinMaxScaler\n",
    "\n",
    "min_max = MinMaxScaler()\n",
    "\n",
    "x_scaled = min_max.fit(x).transform(x)"
   ]
  },
  {
   "cell_type": "code",
   "execution_count": 36,
   "metadata": {},
   "outputs": [
    {
     "data": {
      "text/plain": [
       "OverTime_Yes                         0.062369\n",
       "Age                                  0.038361\n",
       "MonthlyIncome                        0.037789\n",
       "TotalWorkingYears                    0.036908\n",
       "YearsAtCompany                       0.035998\n",
       "JobSatisfaction                      0.033677\n",
       "DistanceFromHome                     0.032845\n",
       "StockOptionLevel                     0.030490\n",
       "JobInvolvement                       0.030428\n",
       "NumCompaniesWorked                   0.030187\n",
       "YearsWithCurrManager                 0.029835\n",
       "Leaves                               0.029352\n",
       "JobLevel                             0.028939\n",
       "PercentSalaryHike                    0.028642\n",
       "YearsSinceLastPromotion              0.028509\n",
       "TrainingTimesLastYear                0.026635\n",
       "MaritalStatus_Single                 0.025575\n",
       "Absenteeism                          0.025299\n",
       "Work_accident_Yes                    0.023339\n",
       "Mode_of_work_WFH                     0.021694\n",
       "Gender_Male                          0.021322\n",
       "BusinessTravel                       0.020998\n",
       "Source_of_Hire_Walkin                0.019098\n",
       "Higher_Education_PostGraduation      0.019049\n",
       "Source_of_Hire_JobPortal             0.017575\n",
       "Source_of_Hire_Recruiter             0.017421\n",
       "Job_mode_PartTime                    0.017273\n",
       "Job_mode_FullTime                    0.017196\n",
       "JobRole_SalesRepresentative          0.016675\n",
       "Higher_Education_PHD                 0.016049\n",
       "Status_of_leaving_Salary             0.015831\n",
       "Status_of_leaving_WorkAccident       0.015566\n",
       "Status_of_leaving_WorkEnvironment    0.015541\n",
       "JobRole_LaboratoryTechnician         0.015027\n",
       "Higher_Education_th                  0.014958\n",
       "MaritalStatus_Married                0.014861\n",
       "Status_of_leaving_DeptHead           0.013516\n",
       "Department_Sales                     0.011424\n",
       "Department_ResearchDevelopment       0.011398\n",
       "PerformanceRating                    0.011377\n",
       "JobRole_ResearchScientist            0.011058\n",
       "JobRole_SalesExecutive               0.009694\n",
       "JobRole_ManufacturingDirector        0.008075\n",
       "JobRole_HumanResources               0.005870\n",
       "JobRole_Manager                      0.004183\n",
       "JobRole_ResearchDirector             0.002091\n",
       "dtype: float64"
      ]
     },
     "execution_count": 36,
     "metadata": {},
     "output_type": "execute_result"
    }
   ],
   "source": [
    "ExtraTree = ExtraTreesClassifier()\n",
    "\n",
    "ExtraTree.fit(x_scaled, y)\n",
    "\n",
    "feature_importance = pd.Series(ExtraTree.feature_importances_, index=x.columns).sort_values(ascending = False)\n",
    "feature_importance"
   ]
  },
  {
   "cell_type": "code",
   "execution_count": 37,
   "metadata": {},
   "outputs": [
    {
     "data": {
      "image/png": "[encoded data removed]",
      "text/plain": [
       "<Figure size 720x648 with 1 Axes>"
      ]
     },
     "metadata": {
      "needs_background": "light"
     },
     "output_type": "display_data"
    }
   ],
   "source": [
    "plt.figure(figsize=(10,9))\n",
    "feature_importance.nlargest(20).plot(kind='barh')\n",
    "plt.show()"
   ]
  },
  {
   "cell_type": "markdown",
   "metadata": {},
   "source": [
    "# Modelling"
   ]
  },
  {
   "cell_type": "code",
   "execution_count": 38,
   "metadata": {},
   "outputs": [],
   "source": [
    "from sklearn.model_selection import train_test_split\n",
    "\n",
    "from sklearn.linear_model import LogisticRegression\n",
    "from sklearn.svm import SVC\n",
    "from sklearn.neighbors import KNeighborsClassifier\n",
    "from sklearn.tree import DecisionTreeClassifier\n",
    "from sklearn.ensemble import RandomForestClassifier\n",
    "\n",
    "#metrics\n",
    "from sklearn.metrics import accuracy_score, classification_report"
   ]
  },
  {
   "cell_type": "markdown",
   "metadata": {},
   "source": [
    "## Splitting data into Train and Test set."
   ]
  },
  {
   "cell_type": "code",
   "execution_count": 39,
   "metadata": {},
   "outputs": [
    {
     "name": "stdout",
     "output_type": "stream",
     "text": [
      "training shape:  (1102, 46)\n",
      "testing shape:  (368, 46)\n"
     ]
    }
   ],
   "source": [
    "x_train,x_test,y_train,y_test = train_test_split(x,y,test_size=0.25,random_state=42)\n",
    "print(\"training shape: \",x_train.shape)\n",
    "print(\"testing shape: \",x_test.shape)"
   ]
  },
  {
   "cell_type": "markdown",
   "metadata": {},
   "source": [
    "# Handling imbalanced data"
   ]
  },
  {
   "cell_type": "markdown",
   "metadata": {},
   "source": [
    "## Over Sampling Minority class by duplication"
   ]
  },
  {
   "cell_type": "code",
   "execution_count": 40,
   "metadata": {},
   "outputs": [],
   "source": [
    "\n",
    "from imblearn.over_sampling import RandomOverSampler\n",
    "oversam = RandomOverSampler(random_state=0)\n",
    "x_over, y_over = oversam.fit_resample(x_train, y_train)"
   ]
  },
  {
   "cell_type": "code",
   "execution_count": 41,
   "metadata": {},
   "outputs": [],
   "source": [
    "from imblearn.over_sampling import SMOTE\n",
    "smot = SMOTE(sampling_strategy='minority')\n",
    "x_smot, y_smot = smot.fit_resample(x_train, y_train)\n"
   ]
  },
  {
   "cell_type": "markdown",
   "metadata": {},
   "source": [
    "# Models"
   ]
  },
  {
   "cell_type": "code",
   "execution_count": 42,
   "metadata": {},
   "outputs": [],
   "source": [
    "\n",
    "log_clf = LogisticRegression()\n",
    "svc_clf = SVC()\n",
    "knn_clf = KNeighborsClassifier()\n",
    "dt_clf = DecisionTreeClassifier()\n",
    "rf_clf = RandomForestClassifier()"
   ]
  },
  {
   "cell_type": "markdown",
   "metadata": {},
   "source": [
    "## First checking the accuracy score on without scalled features"
   ]
  },
  {
   "cell_type": "code",
   "execution_count": 43,
   "metadata": {},
   "outputs": [
    {
     "name": "stdout",
     "output_type": "stream",
     "text": [
      "LogisticRegression   0.7527173913043478\n",
      "SVC   0.8125\n",
      "KNeighborsClassifier   0.5679347826086957\n",
      "DecisionTreeClassifier   0.7853260869565217\n",
      "RandomForestClassifier   0.8614130434782609\n"
     ]
    }
   ],
   "source": [
    "\n",
    "for clf in [log_clf, svc_clf, knn_clf, dt_clf, rf_clf]:\n",
    "    clf.fit(x_smot, y_smot)\n",
    "    \n",
    "    pred = clf.predict(x_test)\n",
    "    \n",
    "    print(clf.__class__.__name__, \" \", accuracy_score(y_test,pred))"
   ]
  },
  {
   "cell_type": "markdown",
   "metadata": {},
   "source": [
    "# VotingClassifier"
   ]
  },
  {
   "cell_type": "code",
   "execution_count": 44,
   "metadata": {},
   "outputs": [
    {
     "name": "stdout",
     "output_type": "stream",
     "text": [
      "acuracy:  0.8206521739130435\n"
     ]
    }
   ],
   "source": [
    "\n",
    "from sklearn.ensemble import VotingClassifier\n",
    "\n",
    "voting_clf =VotingClassifier([('lgclf',log_clf),('svc',svc_clf),('knn',knn_clf),('dt',dt_clf),('rf',rf_clf)])\n",
    "\n",
    "voting_clf.fit(x_smot,y_smot)\n",
    "\n",
    "y_pred = voting_clf.predict(x_test)\n",
    "print(\"acuracy: \",accuracy_score(y_test,y_pred))"
   ]
  },
  {
   "cell_type": "markdown",
   "metadata": {},
   "source": [
    "## If we do same thing on scaled features\n",
    "## Splitting data into train and test set using scaled data"
   ]
  },
  {
   "cell_type": "code",
   "execution_count": 45,
   "metadata": {},
   "outputs": [
    {
     "name": "stdout",
     "output_type": "stream",
     "text": [
      "training shape:  (1102, 46)\n",
      "testing shape:  (368, 46)\n"
     ]
    }
   ],
   "source": [
    "\n",
    "x_train_scaled,x_test_scaled,y_train_scaled,y_test_scaled = train_test_split(x_scaled,y,test_size=0.25,random_state=42)\n",
    "print(\"training shape: \",x_train_scaled.shape)\n",
    "print(\"testing shape: \",x_test_scaled.shape)"
   ]
  },
  {
   "cell_type": "markdown",
   "metadata": {},
   "source": [
    "# Now checking the accuracy score on scalled features"
   ]
  },
  {
   "cell_type": "code",
   "execution_count": 46,
   "metadata": {},
   "outputs": [
    {
     "name": "stdout",
     "output_type": "stream",
     "text": [
      "LogisticRegression   0.8777173913043478\n",
      "SVC   0.8641304347826086\n",
      "KNeighborsClassifier   0.845108695652174\n",
      "DecisionTreeClassifier   0.7853260869565217\n",
      "RandomForestClassifier   0.8614130434782609\n"
     ]
    }
   ],
   "source": [
    "\n",
    "for clf in [log_clf, svc_clf, knn_clf, dt_clf, rf_clf]:\n",
    "    clf.fit(x_train_scaled, y_train_scaled)\n",
    "    \n",
    "    pred = clf.predict(x_test_scaled)\n",
    "    \n",
    "    print(clf.__class__.__name__, \" \", accuracy_score(y_test,pred))"
   ]
  },
  {
   "cell_type": "markdown",
   "metadata": {},
   "source": [
    "# Trying votingClf with scaled data"
   ]
  },
  {
   "cell_type": "code",
   "execution_count": 47,
   "metadata": {},
   "outputs": [
    {
     "name": "stdout",
     "output_type": "stream",
     "text": [
      "acuracy:  0.8695652173913043\n"
     ]
    }
   ],
   "source": [
    "\n",
    "\n",
    "voting_clf =VotingClassifier([('lgclf',log_clf),('svc',svc_clf),('knn',knn_clf),('dt',dt_clf),('rf',rf_clf)])\n",
    "\n",
    "voting_clf.fit(x_train_scaled,y_train_scaled)\n",
    "\n",
    "y_pred = voting_clf.predict(x_test_scaled)\n",
    "print(\"acuracy: \",accuracy_score(y_test_scaled,y_pred))"
   ]
  },
  {
   "cell_type": "code",
   "execution_count": 48,
   "metadata": {},
   "outputs": [],
   "source": [
    "from sklearn.ensemble import AdaBoostClassifier\n",
    "from xgboost import XGBClassifier\n",
    "from sklearn.model_selection import RandomizedSearchCV\n",
    "from sklearn.model_selection import cross_val_score"
   ]
  },
  {
   "cell_type": "markdown",
   "metadata": {},
   "source": [
    "# AdaBoost"
   ]
  },
  {
   "cell_type": "code",
   "execution_count": 49,
   "metadata": {},
   "outputs": [
    {
     "name": "stdout",
     "output_type": "stream",
     "text": [
      "accuracy: 0.8396739130434783\n"
     ]
    }
   ],
   "source": [
    "boost = AdaBoostClassifier(base_estimator = DecisionTreeClassifier(max_depth=1), n_estimators=500, algorithm='SAMME',learning_rate=0.01)\n",
    "\n",
    "boost.fit(x_train_scaled,y_train_scaled)\n",
    "\n",
    "predictions = boost.predict(x_test_scaled)\n",
    "\n",
    "print(\"accuracy:\",accuracy_score(y_test,predictions))"
   ]
  },
  {
   "cell_type": "markdown",
   "metadata": {},
   "source": [
    "## Training accuracy"
   ]
  },
  {
   "cell_type": "code",
   "execution_count": 50,
   "metadata": {},
   "outputs": [
    {
     "name": "stdout",
     "output_type": "stream",
     "text": [
      "training accuracy: 0.838475499092559\n",
      "testing accuracy: 0.8396739130434783\n"
     ]
    }
   ],
   "source": [
    "#training accuracy\n",
    "print(\"training accuracy:\",boost.score(x_train_scaled,y_train_scaled))\n",
    "print(\"testing accuracy:\",boost.score(x_test_scaled,y_test_scaled))"
   ]
  },
  {
   "cell_type": "markdown",
   "metadata": {},
   "source": [
    "# XGBoost"
   ]
  },
  {
   "cell_type": "code",
   "execution_count": 51,
   "metadata": {},
   "outputs": [
    {
     "name": "stdout",
     "output_type": "stream",
     "text": [
      "accuracy:  0.8641304347826086\n"
     ]
    }
   ],
   "source": [
    "# XGBOOST\n",
    "xgb = XGBClassifier()\n",
    "\n",
    "xgb.fit(x_train_scaled, y_train_scaled)\n",
    "\n",
    "prediction = xgb.predict(x_test_scaled)\n",
    "\n",
    "print(\"accuracy: \",accuracy_score(y_test,prediction))"
   ]
  },
  {
   "cell_type": "markdown",
   "metadata": {},
   "source": [
    "# Hyperparameter tuning with RandomForest"
   ]
  },
  {
   "cell_type": "code",
   "execution_count": 52,
   "metadata": {},
   "outputs": [
    {
     "name": "stdout",
     "output_type": "stream",
     "text": [
      "{'n_estimators': [100, 200, 300, 400, 500, 600, 700, 800, 900, 1000, 1100, 1200], 'max_depth': [5, 10, 15, 20, 25, 30], 'criterion': ['gini', 'entropy'], 'min_samples_split': [2, 5, 7, 10], 'min_samples_leaf': [2, 5, 8], 'max_features': ['auto', 'sqrt']}\n"
     ]
    }
   ],
   "source": [
    "\n",
    "\n",
    "#number of trees in forest\n",
    "n_estimators = [int(x) for x in np.linspace(100,1200,12)]\n",
    "#max depth of tree\n",
    "max_depth = [int(x) for x in np.linspace(5,30,6)]\n",
    "#quality of split\n",
    "criterion = ['gini','entropy']\n",
    "#min no. of samples to consider for splitting a internal node\n",
    "min_samples_split = [2,5,7,10]\n",
    "#min number of node can be as leaf node\n",
    "min_samples_leaf = [2,5,8]\n",
    "# The number of features to consider when looking for the best split:\n",
    "max_features = [\"auto\",\"sqrt\"]\n",
    "\n",
    "random_grid = dict(n_estimators=n_estimators, max_depth=max_depth, criterion=criterion,\n",
    "                  min_samples_split=min_samples_split,min_samples_leaf=min_samples_leaf,\n",
    "                   max_features=max_features)\n",
    "print(random_grid)"
   ]
  },
  {
   "cell_type": "code",
   "execution_count": 53,
   "metadata": {},
   "outputs": [
    {
     "name": "stdout",
     "output_type": "stream",
     "text": [
      "Fitting 5 folds for each of 10 candidates, totalling 50 fits\n"
     ]
    },
    {
     "data": {
      "text/plain": [
       "RandomizedSearchCV(cv=5, estimator=RandomForestClassifier(), n_jobs=-1,\n",
       "                   param_distributions={'criterion': ['gini', 'entropy'],\n",
       "                                        'max_depth': [5, 10, 15, 20, 25, 30],\n",
       "                                        'max_features': ['auto', 'sqrt'],\n",
       "                                        'min_samples_leaf': [2, 5, 8],\n",
       "                                        'min_samples_split': [2, 5, 7, 10],\n",
       "                                        'n_estimators': [100, 200, 300, 400,\n",
       "                                                         500, 600, 700, 800,\n",
       "                                                         900, 1000, 1100,\n",
       "                                                         1200]},\n",
       "                   random_state=42, verbose=1)"
      ]
     },
     "execution_count": 53,
     "metadata": {},
     "output_type": "execute_result"
    }
   ],
   "source": [
    "rf_clf = RandomForestClassifier()\n",
    "rf_random = RandomizedSearchCV(rf_clf, param_distributions=random_grid, cv=5, n_iter=10,\n",
    "                               random_state=42, n_jobs=-1,verbose=1,)\n",
    "\n",
    "rf_random.fit(x_train_scaled, y_train_scaled)"
   ]
  },
  {
   "cell_type": "code",
   "execution_count": 54,
   "metadata": {},
   "outputs": [
    {
     "name": "stdout",
     "output_type": "stream",
     "text": [
      "0.8502797202797204\n",
      "{'n_estimators': 1100, 'min_samples_split': 7, 'min_samples_leaf': 2, 'max_features': 'sqrt', 'max_depth': 10, 'criterion': 'gini'}\n"
     ]
    }
   ],
   "source": [
    "print(rf_random.best_score_)\n",
    "print(rf_random.best_params_)"
   ]
  },
  {
   "cell_type": "markdown",
   "metadata": {},
   "source": [
    "## Passing the best params into Classifier"
   ]
  },
  {
   "cell_type": "code",
   "execution_count": 55,
   "metadata": {},
   "outputs": [],
   "source": [
    "from sklearn.ensemble import RandomForestClassifier\n",
    "classifier = RandomForestClassifier(n_estimators=1000, min_samples_split=2, min_samples_leaf=2, max_features='sqrt', max_depth=10, criterion='entropy')\n",
    "classifier.fit(x_train_scaled, y_train_scaled)\n",
    "y_pred_scaled = classifier.predict(x_test_scaled)"
   ]
  },
  {
   "cell_type": "code",
   "execution_count": 56,
   "metadata": {},
   "outputs": [
    {
     "name": "stdout",
     "output_type": "stream",
     "text": [
      "[[308   1]\n",
      " [ 53   6]]\n",
      "              precision    recall  f1-score   support\n",
      "\n",
      "           0       0.85      1.00      0.92       309\n",
      "           1       0.86      0.10      0.18        59\n",
      "\n",
      "    accuracy                           0.85       368\n",
      "   macro avg       0.86      0.55      0.55       368\n",
      "weighted avg       0.85      0.85      0.80       368\n",
      "\n",
      "0.8532608695652174\n"
     ]
    }
   ],
   "source": [
    "from sklearn.metrics import classification_report, confusion_matrix, accuracy_score\n",
    "\n",
    "print(confusion_matrix(y_test_scaled,y_pred_scaled))\n",
    "print(classification_report(y_test_scaled,y_pred_scaled))\n",
    "print(accuracy_score(y_test_scaled, y_pred_scaled))"
   ]
  },
  {
   "cell_type": "markdown",
   "metadata": {},
   "source": [
    "# Hyperparameter tuning for XgBoost"
   ]
  },
  {
   "cell_type": "code",
   "execution_count": 61,
   "metadata": {},
   "outputs": [
    {
     "name": "stdout",
     "output_type": "stream",
     "text": [
      "{'n_estimators': [100, 200, 300, 400, 500, 600, 700, 800, 900, 1000], 'max_depth': [6, 12, 18, 24, 30], 'learning_rate': [0.001, 0.002, 0.003, 0.004, 0.005, 0.006, 0.007, 0.008, 0.009, 0.01], 'min_child_weight': [1, 2, 3, 4, 5, 6, 7, 8, 9]}\n"
     ]
    }
   ],
   "source": [
    "\n",
    "\n",
    "n_estimators = [int(x) for x in np.linspace(100,1000,10)]\n",
    "\n",
    "max_depth = [int(x) for x in np.linspace(6,30,5)]\n",
    "learning_rate = [0.001,0.002,0.003,0.004,0.005,0.006,0.007,0.008,0.009,0.01]\n",
    "min_child_weight = list(range(1,10))\n",
    "\n",
    "xg_grid = dict(n_estimators=n_estimators, max_depth=max_depth, learning_rate=learning_rate, \n",
    "               min_child_weight=min_child_weight)\n",
    "print(xg_grid)"
   ]
  },
  {
   "cell_type": "code",
   "execution_count": 62,
   "metadata": {},
   "outputs": [
    {
     "name": "stdout",
     "output_type": "stream",
     "text": [
      "Fitting 5 folds for each of 10 candidates, totalling 50 fits\n"
     ]
    },
    {
     "data": {
      "text/plain": [
       "RandomizedSearchCV(cv=5,\n",
       "                   estimator=XGBClassifier(base_score=None, booster=None,\n",
       "                                           callbacks=None,\n",
       "                                           colsample_bylevel=None,\n",
       "                                           colsample_bynode=None,\n",
       "                                           colsample_bytree=None,\n",
       "                                           early_stopping_rounds=None,\n",
       "                                           enable_categorical=False,\n",
       "                                           eval_metric=None, gamma=None,\n",
       "                                           gpu_id=None, grow_policy=None,\n",
       "                                           importance_type=None,\n",
       "                                           interaction_constraints=None,\n",
       "                                           learning_rate=None, max_bin=None,...\n",
       "                                           num_parallel_tree=None,\n",
       "                                           predictor=None, random_state=None,\n",
       "                                           reg_alpha=None, reg_lambda=None, ...),\n",
       "                   n_jobs=-1,\n",
       "                   param_distributions={'learning_rate': [0.001, 0.002, 0.003,\n",
       "                                                          0.004, 0.005, 0.006,\n",
       "                                                          0.007, 0.008, 0.009,\n",
       "                                                          0.01],\n",
       "                                        'max_depth': [6, 12, 18, 24, 30],\n",
       "                                        'min_child_weight': [1, 2, 3, 4, 5, 6,\n",
       "                                                             7, 8, 9],\n",
       "                                        'n_estimators': [100, 200, 300, 400,\n",
       "                                                         500, 600, 700, 800,\n",
       "                                                         900, 1000]},\n",
       "                   random_state=42, scoring='accuracy', verbose=1)"
      ]
     },
     "execution_count": 62,
     "metadata": {},
     "output_type": "execute_result"
    }
   ],
   "source": [
    "xgb = XGBClassifier()\n",
    "xgb_random = RandomizedSearchCV(xgb, param_distributions=xg_grid, cv=5, random_state=42,\n",
    "                               n_iter=10,scoring=\"accuracy\",n_jobs=-1,verbose=1)\n",
    "\n",
    "xgb_random.fit(x_train_scaled,y_train_scaled)"
   ]
  },
  {
   "cell_type": "code",
   "execution_count": 63,
   "metadata": {},
   "outputs": [
    {
     "name": "stdout",
     "output_type": "stream",
     "text": [
      "score:  0.8602714932126696\n",
      "best_params: \n",
      " {'n_estimators': 1000, 'min_child_weight': 4, 'max_depth': 18, 'learning_rate': 0.007}\n"
     ]
    }
   ],
   "source": [
    "print(\"score: \",xgb_random.best_score_)\n",
    "print(\"best_params: \\n\",xgb_random.best_params_)"
   ]
  },
  {
   "cell_type": "markdown",
   "metadata": {},
   "source": [
    "## Passing the best params into Classifier"
   ]
  },
  {
   "cell_type": "code",
   "execution_count": 64,
   "metadata": {},
   "outputs": [
    {
     "data": {
      "text/plain": [
       "XGBClassifier(base_score=0.5, booster='gbtree', callbacks=None,\n",
       "              colsample_bylevel=1, colsample_bynode=1, colsample_bytree=1,\n",
       "              early_stopping_rounds=None, enable_categorical=False,\n",
       "              eval_metric=None, gamma=0, gpu_id=-1, grow_policy='depthwise',\n",
       "              importance_type=None, interaction_constraints='',\n",
       "              learning_rate=0.007, max_bin=256, max_cat_to_onehot=4,\n",
       "              max_delta_step=0, max_depth=18, max_leaves=0, min_child_weight=4,\n",
       "              missing=nan, monotone_constraints='()', n_estimators=1000,\n",
       "              n_jobs=0, num_parallel_tree=1, predictor='auto', random_state=0,\n",
       "              reg_alpha=0, reg_lambda=1, ...)"
      ]
     },
     "execution_count": 64,
     "metadata": {},
     "output_type": "execute_result"
    }
   ],
   "source": [
    "xgb = XGBClassifier(n_estimators=1000, min_child_weight=4, max_depth=18, learning_rate=0.007)\n",
    "\n",
    "#xgb_random = RandomizedSearchCV(xgb, param_distributions=xg_grid, cv=5, random_state=42,\n",
    "#                               n_iter=10,scoring=\"accuracy\",n_jobs=-1,verbose=1)\n",
    "\n",
    "xgb.fit(x_train_scaled,y_train_scaled)"
   ]
  },
  {
   "cell_type": "code",
   "execution_count": 65,
   "metadata": {},
   "outputs": [
    {
     "name": "stdout",
     "output_type": "stream",
     "text": [
      "[[302   7]\n",
      " [ 45  14]]\n",
      "              precision    recall  f1-score   support\n",
      "\n",
      "           0       0.87      0.98      0.92       309\n",
      "           1       0.67      0.24      0.35        59\n",
      "\n",
      "    accuracy                           0.86       368\n",
      "   macro avg       0.77      0.61      0.64       368\n",
      "weighted avg       0.84      0.86      0.83       368\n",
      "\n",
      "0.8586956521739131\n"
     ]
    }
   ],
   "source": [
    "predictions = xgb.predict(x_test_scaled)\n",
    "\n",
    "print(confusion_matrix(y_test_scaled,predictions))\n",
    "print(classification_report(y_test_scaled,predictions))\n",
    "print(accuracy_score(y_test_scaled, predictions))"
   ]
  },
  {
   "cell_type": "markdown",
   "metadata": {},
   "source": [
    "# XgBoost with RandomizedSearchCV"
   ]
  },
  {
   "cell_type": "code",
   "execution_count": 57,
   "metadata": {},
   "outputs": [],
   "source": [
    "xgb = XGBClassifier()"
   ]
  },
  {
   "cell_type": "code",
   "execution_count": 58,
   "metadata": {},
   "outputs": [
    {
     "name": "stdout",
     "output_type": "stream",
     "text": [
      "[15:26:13] WARNING: C:/Users/administrator/workspace/xgboost-win64_release_1.6.0/src/learner.cc:627: \n",
      "Parameters: { \"C\", \"penalty\" } might not be used.\n",
      "\n",
      "  This could be a false alarm, with some parameters getting used by language bindings but\n",
      "  then being mistakenly passed down to XGBoost core, or some parameter actually being used\n",
      "  but getting flagged wrongly here. Please open an issue if you find any such cases.\n",
      "\n",
      "\n",
      "Best: 0.799183 using {'C': 1.1052935706422993, 'penalty': 'l1', 'scale_pos_weight': 1}\n",
      "0.799183 (0.048760) with: {'C': 1.1052935706422993, 'penalty': 'l1', 'scale_pos_weight': 1}\n",
      "0.776978 (0.051131) with: {'C': 1.2755255902824465, 'penalty': 'l1', 'scale_pos_weight': 50}\n",
      "0.776978 (0.051131) with: {'C': 3.5087335079066038, 'penalty': 'l1', 'scale_pos_weight': 50}\n",
      "0.787820 (0.051028) with: {'C': 1.0940732908236468, 'penalty': 'l1', 'scale_pos_weight': 10}\n",
      "0.776447 (0.043767) with: {'C': 0.9608109762426853, 'penalty': 'l2', 'scale_pos_weight': 25}\n",
      "0.776447 (0.043767) with: {'C': 2.6767215367101778, 'penalty': 'l1', 'scale_pos_weight': 25}\n",
      "0.776447 (0.043767) with: {'C': 0.9510329853012514, 'penalty': 'l1', 'scale_pos_weight': 25}\n",
      "0.764823 (0.058572) with: {'C': 3.6291660270719093, 'penalty': 'l2', 'scale_pos_weight': 1000}\n",
      "0.772723 (0.041740) with: {'C': 2.7417247151413155, 'penalty': 'l1', 'scale_pos_weight': 99}\n",
      "0.764823 (0.058572) with: {'C': 1.4855409537730466, 'penalty': 'l2', 'scale_pos_weight': 1000}\n"
     ]
    }
   ],
   "source": [
    "\n",
    "# grid search positive class weights with xgboost for imbalance classification\n",
    "from numpy import mean\n",
    "from sklearn.datasets import make_classification\n",
    "from sklearn.model_selection import GridSearchCV\n",
    "from sklearn.model_selection import RandomizedSearchCV\n",
    "\n",
    "from sklearn.model_selection import RepeatedStratifiedKFold\n",
    "from scipy.stats import uniform\n",
    "# define grid\n",
    "weights = [1, 10, 25, 50, 75, 99, 100, 1000]\n",
    "param_grid = dict(scale_pos_weight=weights)\n",
    "\n",
    "\n",
    "\n",
    "# define evaluation procedure\n",
    "cv = RepeatedStratifiedKFold(n_splits=10, n_repeats=3, random_state=1)\n",
    "# define grid search\n",
    "\n",
    "distributions = dict(C=uniform(loc=0, scale=4),\n",
    "                         penalty=['l2', 'l1'], scale_pos_weight=weights)\n",
    "\n",
    "\n",
    "grid = RandomizedSearchCV(xgb, distributions, n_jobs=-1, cv=cv, scoring='roc_auc')\n",
    "\n",
    "grid_result=grid.fit(x_train_scaled,y_train_scaled)\n",
    "\n",
    "# report the best configuration\n",
    "print(\"Best: %f using %s\" % (grid_result.best_score_, grid_result.best_params_))\n",
    "# report all configurations\n",
    "means = grid_result.cv_results_['mean_test_score']\n",
    "stds = grid_result.cv_results_['std_test_score']\n",
    "params = grid_result.cv_results_['params']\n",
    "for mean, stdev, param in zip(means, stds, params):\n",
    "    print(\"%f (%f) with: %r\" % (mean, stdev, param))\n",
    "    \n",
    "    "
   ]
  },
  {
   "cell_type": "code",
   "execution_count": 59,
   "metadata": {},
   "outputs": [
    {
     "name": "stdout",
     "output_type": "stream",
     "text": [
      "[15:27:13] WARNING: C:/Users/administrator/workspace/xgboost-win64_release_1.6.0/src/learner.cc:627: \n",
      "Parameters: { \"C\", \"penalty\" } might not be used.\n",
      "\n",
      "  This could be a false alarm, with some parameters getting used by language bindings but\n",
      "  then being mistakenly passed down to XGBoost core, or some parameter actually being used\n",
      "  but getting flagged wrongly here. Please open an issue if you find any such cases.\n",
      "\n",
      "\n"
     ]
    },
    {
     "data": {
      "text/plain": [
       "XGBClassifier(C='1.1052935706422993', base_score=0.5, booster='gbtree',\n",
       "              callbacks=None, colsample_bylevel=1, colsample_bynode=1,\n",
       "              colsample_bytree=1, early_stopping_rounds=None,\n",
       "              enable_categorical=False, eval_metric=None, gamma=0, gpu_id=-1,\n",
       "              grow_policy='depthwise', importance_type=None,\n",
       "              interaction_constraints='', learning_rate=0.300000012,\n",
       "              max_bin=256, max_cat_to_onehot=4, max_delta_step=0, max_depth=6,\n",
       "              max_leaves=0, min_child_weight=1, missing=nan,\n",
       "              monotone_constraints='()', n_estimators=100, n_jobs=0,\n",
       "              num_parallel_tree=1, penalty='l1', predictor='auto',\n",
       "              random_state=0, ...)"
      ]
     },
     "execution_count": 59,
     "metadata": {},
     "output_type": "execute_result"
    }
   ],
   "source": [
    "\n",
    "xgb = XGBClassifier(C = '1.1052935706422993', penalty = 'l1', scale_pos_weight = 1)\n",
    "\n",
    "#xgb_random = RandomizedSearchCV(xgb, param_distributions=xg_grid, cv=5, random_state=42,\n",
    "#                               n_iter=10,scoring=\"accuracy\",n_jobs=-1,verbose=1)\n",
    "\n",
    "xgb.fit(x_train_scaled,y_train_scaled)"
   ]
  },
  {
   "cell_type": "code",
   "execution_count": 60,
   "metadata": {},
   "outputs": [
    {
     "name": "stdout",
     "output_type": "stream",
     "text": [
      "[[299  10]\n",
      " [ 40  19]]\n",
      "              precision    recall  f1-score   support\n",
      "\n",
      "           0       0.88      0.97      0.92       309\n",
      "           1       0.66      0.32      0.43        59\n",
      "\n",
      "    accuracy                           0.86       368\n",
      "   macro avg       0.77      0.64      0.68       368\n",
      "weighted avg       0.85      0.86      0.84       368\n",
      "\n",
      "0.8641304347826086\n"
     ]
    }
   ],
   "source": [
    "predictions = xgb.predict(x_test_scaled)\n",
    "\n",
    "print(confusion_matrix(y_test_scaled,predictions))\n",
    "print(classification_report(y_test_scaled,predictions))\n",
    "print(accuracy_score(y_test_scaled, predictions))"
   ]
  },
  {
   "cell_type": "markdown",
   "metadata": {},
   "source": [
    "# Conclusion"
   ]
  },
  {
   "cell_type": "markdown",
   "metadata": {},
   "source": [
    "Selected model is XgBoost Classifier with Randomized Search provides good accuracy with handling of Class Imbalance"
   ]
  }
 ],
 "metadata": {
  "kernelspec": {
   "display_name": "Python 3",
   "language": "python",
   "name": "python3"
  },
  "language_info": {
   "codemirror_mode": {
    "name": "ipython",
    "version": 3
   },
   "file_extension": ".py",
   "mimetype": "text/x-python",
   "name": "python",
   "nbconvert_exporter": "python",
   "pygments_lexer": "ipython3",
   "version": "3.7.6"
  }
 },
 "nbformat": 4,
 "nbformat_minor": 5
}
